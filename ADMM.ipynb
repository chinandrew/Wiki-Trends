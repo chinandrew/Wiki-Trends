{
 "cells": [
  {
   "cell_type": "markdown",
   "metadata": {},
   "source": [
    "Graph generation functions"
   ]
  },
  {
   "cell_type": "code",
   "execution_count": 1,
   "metadata": {
    "collapsed": true
   },
   "outputs": [],
   "source": [
    "using LightGraphs\n",
    "\n",
    "invLogit(x) = 1./(1.+e.^-x)   \n",
    "\n",
    "function addNode2(graph, p)\n",
    "    add_vertex!(graph)\n",
    "    x = nv(graph)\n",
    "    degree = 0\n",
    "    while degree ==0\n",
    "        flips = rand(x-1)\n",
    "        for i = 1:x-1\n",
    "            if p[i]>flips[i]\n",
    "                add_edge!(graph,i,x)\n",
    "                degree +=1 \n",
    "            end\n",
    "        end\n",
    "    end\n",
    "    return graph\n",
    "end\n",
    "\n",
    "function addPrefNode(g,b,a_0 = -7)\n",
    "    n = nv(g)\n",
    "    L = laplacian_matrix(g)\n",
    "    a = lufact(L) \\ (b - mean(b))    \n",
    "    p = invLogit(a+a_0)\n",
    "    addNode2(g,p)\n",
    "    push!(b,0)\n",
    "    return g\n",
    "end\n",
    "\n",
    "function randEdgeGen(graph, newedges)\n",
    "    for i in 1:newedges\n",
    "        z = newedges\n",
    "        x = collect(1:nv(graph))\n",
    "        edge1 = rand(x)\n",
    "        deleteat!(x, edge1)\n",
    "        edge2 = rand(x)\n",
    "        add_edge!(graph,edge1,edge2)\n",
    "    end\n",
    "    return graph\n",
    "end\n",
    "\n",
    "const MAX_ITER = 5000\n",
    "const STOP_DIFF = 0.0001;"
   ]
  },
  {
   "cell_type": "markdown",
   "metadata": {},
   "source": [
    "Optimization functions"
   ]
  },
  {
   "cell_type": "code",
   "execution_count": 2,
   "metadata": {
    "collapsed": false,
    "scrolled": true
   },
   "outputs": [
    {
     "data": {
      "text/plain": [
       "newton (generic function with 1 method)"
      ]
     },
     "execution_count": 2,
     "metadata": {},
     "output_type": "execute_result"
    }
   ],
   "source": [
    "# a update(Newton Raphson)\n",
    "\n",
    "\n",
    "#y-1./(1.+e.^-(a+a_0))+(u' * L)' + rho*L*(L*a-b)   \n",
    "\n",
    "\n",
    "function gradient2(a,a_0,u,L,rho,b,y)\n",
    "#    grad = grad+ (y[i]-invLogit(a+a_0))+(u' * L)[0:t_0] + rho*(L*a-append!(b, zeros(t-t_o,1)))\n",
    "    grad = y-invLogit(a+a_0)+(u' * L)' - rho*L*(L*a-b)\n",
    "    return grad\n",
    "end;\n",
    "\n",
    "\n",
    "\n",
    "function hessian(a,a_0,rho,L)\n",
    "    hess = Diagonal(vec((invLogit(a+a_0).*(1-invLogit(a+a_0)))))+rho*L^2\n",
    "    return -1*hess\n",
    "end;\n",
    "\n",
    "\n",
    "\n",
    "\n",
    "\n",
    "function newton(y_i,a_0,L,rho,b,u)\n",
    "    a = zeros(length(y_i),1)\n",
    "    a_old = a\n",
    "    iters = 0\n",
    "    diff = 1.0\n",
    "    while(diff >STOP_DIFF && iters< MAX_ITER )\n",
    "        grad = gradient2(a_old,a_0,u,L,rho,b,y_i)\n",
    "        hess = hessian(a_old,a_0, rho,L)\n",
    "        a = a_old - pinv(hess)*grad\n",
    "        diff = norm(a-a_old)\n",
    "        a_old = a\n",
    "        iters = iters+1\n",
    "    end\n",
    "    return a\n",
    "end"
   ]
  },
  {
   "cell_type": "code",
   "execution_count": 3,
   "metadata": {
    "collapsed": false
   },
   "outputs": [
    {
     "data": {
      "text/plain": [
       "-7"
      ]
     },
     "execution_count": 3,
     "metadata": {},
     "output_type": "execute_result"
    }
   ],
   "source": [
    "\n",
    "\n",
    "levels = 10\n",
    "g = BinaryTree(levels)\n",
    "n = nv(g)\n",
    "b = (rand(n) .< 8 / n)*1. ;\n",
    "g = randEdgeGen(g,1000)\n",
    "A = Array{Int64,2}[]\n",
    "L =  SparseMatrixCSC{Int64,Int64}[]\n",
    "numnewnodes = 5\n",
    "for i in 1:numnewnodes\n",
    "    g = addPrefNode(g,b)\n",
    "    push!(L,laplacian_matrix(g))\n",
    "    connects = zeros(2^levels-1+i,1)  #-1 for -1 1 coding\n",
    "    connects[neighbors(g,nv(g))] = 1\n",
    "    push!(A,connects)\n",
    "end\n",
    "\n",
    "t = 2^levels-1+numnewnodes\n",
    "t_0 = 2^levels-1\n",
    "u = zeros(t,1)+0.2;\n",
    "rho = 1.1\n",
    "lambda = 1.1\n",
    "a_0 = -7"
   ]
  },
  {
   "cell_type": "code",
   "execution_count": 4,
   "metadata": {
    "collapsed": false
   },
   "outputs": [],
   "source": [
    "a = zeros(t,numnewnodes)\n",
    "b = zeros(t)\n",
    "u = zeros(t,numnewnodes)\n",
    "#\talpha = 1.5  #relaxation parameter\n",
    "iters = 0\n",
    "diff = 1.0\n",
    "b_old = b;"
   ]
  },
  {
   "cell_type": "code",
   "execution_count": 16,
   "metadata": {
    "collapsed": false,
    "scrolled": true
   },
   "outputs": [
    {
     "data": {
      "text/plain": [
       "1025×1 Array{Float64,2}:\n",
       " 0.0662768\n",
       " 0.0673546\n",
       " 0.0669865\n",
       " 0.0649485\n",
       " 0.0652506\n",
       " 0.0671763\n",
       " 0.0647635\n",
       " 0.0627811\n",
       " 0.0655064\n",
       " 0.0678055\n",
       " 0.0641931\n",
       " 0.0784358\n",
       " 0.063489 \n",
       " ⋮        \n",
       " 0.0604062\n",
       " 0.0661535\n",
       " 0.0648501\n",
       " 0.0672502\n",
       " 0.0598653\n",
       " 0.0682017\n",
       " 0.062589 \n",
       " 0.060786 \n",
       " 0.0566185\n",
       " 0.0542359\n",
       " 0.0625448\n",
       " 0.39449  "
      ]
     },
     "execution_count": 16,
     "metadata": {},
     "output_type": "execute_result"
    }
   ],
   "source": [
    "a[1:length(A[i]),i] = newton(A[i],a_0,L[i],rho,b[1:length(A[i])],u[1:length(A[i]),i])\n"
   ]
  },
  {
   "cell_type": "code",
   "execution_count": 17,
   "metadata": {
    "collapsed": false
   },
   "outputs": [
    {
     "data": {
      "text/plain": [
       "1025-element Array{Float64,1}:\n",
       " -0.0019663  \n",
       " -0.00145963 \n",
       " -0.00149955 \n",
       " -0.00220314 \n",
       " -0.00190791 \n",
       " -0.00096844 \n",
       " -0.00217936 \n",
       " -0.00273334 \n",
       " -0.00211586 \n",
       " -0.000453873\n",
       " -0.00238917 \n",
       "  0.00497202 \n",
       " -0.00247532 \n",
       "  ⋮          \n",
       " -0.00329048 \n",
       " -0.00181626 \n",
       " -0.00211115 \n",
       " -0.00149675 \n",
       " -0.0036843  \n",
       " -0.00103988 \n",
       " -0.00280297 \n",
       " -0.00329401 \n",
       " -0.00421634 \n",
       " -0.00470552 \n",
       " -0.002986   \n",
       "  0.209458   "
      ]
     },
     "execution_count": 17,
     "metadata": {},
     "output_type": "execute_result"
    }
   ],
   "source": [
    "u[1:length(A[i]),i]+ rho*(L[i]*a[1:length(A[i]),i]-b[1:length(A[i])])"
   ]
  },
  {
   "cell_type": "code",
   "execution_count": 12,
   "metadata": {
    "collapsed": false
   },
   "outputs": [
    {
     "data": {
      "text/plain": [
       "0.0"
      ]
     },
     "execution_count": 12,
     "metadata": {},
     "output_type": "execute_result"
    }
   ],
   "source": [
    "sum(u[1:length(A[i]),i]+ rho*(L[i]*a[1:length(A[i]),i]-b[1:length(A[i])]))"
   ]
  },
  {
   "cell_type": "code",
   "execution_count": 10,
   "metadata": {
    "collapsed": false
   },
   "outputs": [
    {
     "ename": "LoadError",
     "evalue": "DimensionMismatch(\"\")",
     "output_type": "error",
     "traceback": [
      "DimensionMismatch(\"\")",
      "",
      " in A_mul_B!(::Float64, ::SparseMatrixCSC{Int64,Int64}, ::Array{Float64,1}, ::Float64, ::Array{Float64,1}) at ./sparse/linalg.jl:55",
      " in *(::SparseMatrixCSC{Int64,Int64}, ::Array{Float64,1}) at ./linalg/matmul.jl:84"
     ]
    }
   ],
   "source": [
    "L[i]*a[:,i]"
   ]
  },
  {
   "cell_type": "code",
   "execution_count": 18,
   "metadata": {
    "collapsed": false
   },
   "outputs": [
    {
     "data": {
      "text/html": [
       "1 method for generic function <b>newton</b>:<ul><li> newton(y_i, a_0, L, rho, b) at In[2]:25</li> </ul>"
      ],
      "text/plain": [
       "# 1 method for generic function \"newton\":\n",
       "newton(y_i, a_0, L, rho, b) at In[2]:25"
      ]
     },
     "execution_count": 18,
     "metadata": {},
     "output_type": "execute_result"
    }
   ],
   "source": [
    "methods(newton)"
   ]
  },
  {
   "cell_type": "code",
   "execution_count": 28,
   "metadata": {
    "collapsed": false
   },
   "outputs": [
    {
     "name": "stderr",
     "output_type": "stream",
     "text": [
      "WARNING: Method definition ADMM(Any, Any, Any, Any, Any) in module Main at In[3]:4 overwritten at In[28]:2.\n"
     ]
    },
    {
     "data": {
      "text/plain": [
       "ADMM (generic function with 1 method)"
      ]
     },
     "execution_count": 28,
     "metadata": {},
     "output_type": "execute_result"
    }
   ],
   "source": [
    "function ADMM(A,L,t,t_0,new)\n",
    "\ta = zeros(t,new)\n",
    "\tb = zeros(t)\n",
    "\tu = zeros(t,new)\n",
    "#\talpha = 1.5  #relaxation parameter\n",
    "\titers = 0\n",
    "\tdiff = 1.0\n",
    "\tb_old = b\n",
    "\twhile(diff >STOP_DIFF && iters< MAX_ITER )\n",
    "\t\t#a update\n",
    "\t\tfor i in t_0:t\n",
    "\t\t\ta[1:length(A[i]),i] = newton(A[i],a_0,L[i],rho,b[1:length(A[i])],u[:,i])\n",
    "\t\t\tu[1:length(A[i]),i] = u[1:length(A[i]),i]+ rho*(L[i]*a[:,i]-b[1:length(A[i])])\n",
    "\t\tend\n",
    "\t\tc = zeros(t)\n",
    "\t\tfor i in t_0:t\n",
    "\t\t\tc = c+ u[:,i]'+rho(L[i]*a[:,i])/((t-t_0)*rho/2)\n",
    "\t\tend\n",
    "\t\tb = sign(c).*max(abs(c)-lambda/2,0) #soft(c)\n",
    "\t\tdiff  = norm(b-b_old)\n",
    "\t\tb_old = b\n",
    "\tend\n",
    "\treturn b\n",
    "end\n"
   ]
  }
 ],
 "metadata": {
  "anaconda-cloud": {},
  "kernelspec": {
   "display_name": "Julia 0.5.0",
   "language": "julia",
   "name": "julia-0.5"
  },
  "language_info": {
   "file_extension": ".jl",
   "mimetype": "application/julia",
   "name": "julia",
   "version": "0.5.0"
  }
 },
 "nbformat": 4,
 "nbformat_minor": 1
}
