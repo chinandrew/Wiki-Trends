{
 "cells": [
  {
   "cell_type": "markdown",
   "metadata": {},
   "source": [
    "Graph generation functions"
   ]
  },
  {
   "cell_type": "code",
   "execution_count": 1,
   "metadata": {
    "collapsed": true
   },
   "outputs": [],
   "source": [
    "using LightGraphs\n",
    "\n",
    "invLogit(x) = 1./(1.+e.^-x)   \n",
    "\n",
    "function addNode2(graph, p)\n",
    "    add_vertex!(graph)\n",
    "    x = nv(graph)\n",
    "    degree = 0\n",
    "    while degree ==0\n",
    "        flips = rand(x-1)\n",
    "        for i = 1:x-1\n",
    "            if p[i]>flips[i]\n",
    "                add_edge!(graph,i,x)\n",
    "                degree +=1 \n",
    "            end\n",
    "        end\n",
    "    end\n",
    "    return graph\n",
    "end\n",
    "\n",
    "function addPrefNode(g,b,a_0 = -7)\n",
    "    n = nv(g)\n",
    "    L = laplacian_matrix(g)\n",
    "\n",
    "    p = invLogit(a+a_0)\n",
    "    addNode2(g,p)\n",
    "    push!(b,0)\n",
    "    return g\n",
    "end\n",
    "\n",
    "function randEdgeGen(graph, newedges)\n",
    "    for i in 1:newedges\n",
    "        z = newedges\n",
    "        x = collect(1:nv(graph))\n",
    "        edge1 = rand(x)\n",
    "        deleteat!(x, edge1)\n",
    "        edge2 = rand(x)\n",
    "        add_edge!(graph,edge1,edge2)\n",
    "    end\n",
    "    return graph\n",
    "end\n",
    "\n",
    "const MAX_ITER = 5000\n",
    "const STOP_DIFF = 0.0001;"
   ]
  },
  {
   "cell_type": "markdown",
   "metadata": {},
   "source": [
    "Optimization functions"
   ]
  },
  {
   "cell_type": "code",
   "execution_count": 2,
   "metadata": {
    "collapsed": false,
    "scrolled": true
   },
   "outputs": [
    {
     "data": {
      "text/plain": [
       "newton (generic function with 1 method)"
      ]
     },
     "execution_count": 2,
     "metadata": {},
     "output_type": "execute_result"
    }
   ],
   "source": [
    "# a update(Newton Raphson)\n",
    "\n",
    "\n",
    "#y-1./(1.+e.^-(a+a_0))+(u' * L)' + rho*L*(L*a-b)   \n",
    "\n",
    "\n",
    "function gradient2(a,a_0,u,L,rho,b,y)\n",
    "#    grad = grad+ (y[i]-invLogit(a+a_0))+(u' * L)[0:t_0] + rho*(L*a-append!(b, zeros(t-t_o,1)))\n",
    "    grad = y-invLogit(a+a_0)+(u' * L)' - rho*L*(L*a-b)\n",
    "    return grad\n",
    "end;\n",
    "\n",
    "\n",
    "\n",
    "function hessian(a,a_0,rho,L)\n",
    "    hess = Diagonal(vec((invLogit(a+a_0).*(1-invLogit(a+a_0)))))+rho*L^2\n",
    "    return -1*hess\n",
    "end;\n",
    "\n",
    "\n",
    "\n",
    "\n",
    "\n",
    "function newton(y_i,a_0,L,rho,b,u)\n",
    "    a = zeros(length(y_i),1)\n",
    "    a_old = a\n",
    "    iters = 0\n",
    "    diff = 1.0\n",
    "    while(diff >STOP_DIFF && iters< MAX_ITER )\n",
    "        grad = gradient2(a_old,a_0,u,L,rho,b,y_i)\n",
    "        hess = hessian(a_old,a_0, rho,L)\n",
    "        a = a_old - pinv(hess)*grad\n",
    "        diff = norm(a-a_old)\n",
    "        a_old = a\n",
    "        iters = iters+1\n",
    "    end\n",
    "    return a\n",
    "end"
   ]
  },
  {
   "cell_type": "code",
   "execution_count": 3,
   "metadata": {
    "collapsed": false
   },
   "outputs": [
    {
     "data": {
      "text/plain": [
       "-7"
      ]
     },
     "execution_count": 3,
     "metadata": {},
     "output_type": "execute_result"
    }
   ],
   "source": [
    "\n",
    "\n",
    "levels = 10\n",
    "g = BinaryTree(levels)\n",
    "n = nv(g)\n",
    "b = (rand(n) .< 8 / n)*1. ;\n",
    "g = randEdgeGen(g,1000)\n",
    "A = Array{Int64,2}[]\n",
    "L =  SparseMatrixCSC{Int64,Int64}[]\n",
    "numnewnodes = 5\n",
    "for i in 1:numnewnodes\n",
    "    g = addPrefNode(g,b)\n",
    "    push!(L,laplacian_matrix(g))\n",
    "    connects = zeros(2^levels-1+i,1)  #-1 for -1 1 coding\n",
    "    connects[neighbors(g,nv(g))] = 1\n",
    "    push!(A,connects)\n",
    "end\n",
    "\n",
    "t = 2^levels-1+numnewnodes\n",
    "t_0 = 2^levels-1\n",
    "u = zeros(t,1)+0.2;\n",
    "rho = 1.1\n",
    "lambda = 1.1\n",
    "a_0 = -7"
   ]
  },
  {
   "cell_type": "code",
   "execution_count": 4,
   "metadata": {
    "collapsed": false
   },
   "outputs": [],
   "source": [
    "a = zeros(t,numnewnodes)\n",
    "b = zeros(t)\n",
    "u = zeros(t,numnewnodes)\n",
    "#\talpha = 1.5  #relaxation parameter\n",
    "iters = 0\n",
    "diff = 1.0\n",
    "b_old = b;"
   ]
  },
  {
   "cell_type": "code",
   "execution_count": 69,
   "metadata": {
    "collapsed": false,
    "scrolled": true
   },
   "outputs": [],
   "source": [
    "for i in 1:numnewnodes\n",
    "\ta[1:length(A[i]),i] = newton(A[i],a_0,L[i],rho,b[1:length(A[i])],u[1:length(A[i]),i])\n",
    "\tu[1:length(A[i]),i] = u[1:length(A[i]),i]+ rho*(L[i]*a[1:length(A[i]),i]-b[1:length(A[i])])\n",
    "end"
   ]
  },
  {
   "cell_type": "code",
   "execution_count": 70,
   "metadata": {
    "collapsed": false
   },
   "outputs": [
    {
     "data": {
      "text/plain": [
       "1028×5 Array{Float64,2}:\n",
       " 0.0639411  0.0662768  1.15472  1.42531  0.0552211\n",
       " 0.0644472  0.0673546  1.1554   1.4318   0.0550881\n",
       " 0.0660387  0.0669865  1.16091  1.43101  0.0585648\n",
       " 0.0670678  0.0649485  1.16007  1.44117  0.0539712\n",
       " 0.064436   0.0652506  1.15398  1.43668  0.0576488\n",
       " 0.0672255  0.0671763  1.17962  1.43626  0.0704629\n",
       " 0.0715314  0.0647635  1.16148  1.44026  0.0570951\n",
       " 0.0673322  0.0627811  1.15707  1.43911  0.0554731\n",
       " 0.0677535  0.0655064  1.16476  1.45321  0.0559102\n",
       " 0.0655853  0.0678055  1.15651  1.4432   0.0586776\n",
       " 0.0639427  0.0641931  1.15072  1.43216  0.0568692\n",
       " 0.0721378  0.0784358  1.17358  1.45318  0.0598724\n",
       " 0.0662229  0.063489   1.16996  1.43607  0.0630973\n",
       " ⋮                                                \n",
       " 0.0637203  0.0672502  1.14056  1.46752  0.0505469\n",
       " 0.0606701  0.0598653  1.13251  1.72914  0.04898  \n",
       " 0.0637364  0.0682017  1.14813  1.77536  0.0546687\n",
       " 0.0660929  0.062589   1.16128  1.51601  0.0547095\n",
       " 0.0641668  0.060786   1.15503  1.45461  0.0536125\n",
       " 0.0629133  0.0566185  1.13795  1.4282   0.0499409\n",
       " 0.0641756  0.0542359  1.12727  1.41539  0.044736 \n",
       " 0.340629   0.0625448  1.15587  1.439    0.0518567\n",
       " 0.0        0.39449    1.14723  1.43983  0.0518672\n",
       " 0.0        0.0        1.46298  1.43638  0.0707708\n",
       " 0.0        0.0        0.0      1.99549  0.0645994\n",
       " 0.0        0.0        0.0      0.0      1.16386  "
      ]
     },
     "execution_count": 70,
     "metadata": {},
     "output_type": "execute_result"
    }
   ],
   "source": [
    "a"
   ]
  },
  {
   "cell_type": "code",
   "execution_count": 74,
   "metadata": {
    "collapsed": false
   },
   "outputs": [
    {
     "data": {
      "text/plain": [
       "0.0"
      ]
     },
     "execution_count": 74,
     "metadata": {},
     "output_type": "execute_result"
    }
   ],
   "source": [
    "sum(b)    "
   ]
  }
 ],
 "metadata": {
  "anaconda-cloud": {},
  "kernelspec": {
   "display_name": "Julia 0.5.0",
   "language": "julia",
   "name": "julia-0.5"
  },
  "language_info": {
   "file_extension": ".jl",
   "mimetype": "application/julia",
   "name": "julia",
   "version": "0.5.0"
  }
 },
 "nbformat": 4,
 "nbformat_minor": 1
}
