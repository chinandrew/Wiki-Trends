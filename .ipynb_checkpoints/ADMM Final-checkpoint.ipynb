{
 "cells": [
  {
   "cell_type": "markdown",
   "metadata": {},
   "source": [
    "STABLE = all vars stable(may still have some red Any in output)"
   ]
  },
  {
   "cell_type": "markdown",
   "metadata": {},
   "source": [
    "Graph Generation Functions"
   ]
  },
  {
   "cell_type": "code",
   "execution_count": null,
   "metadata": {
    "collapsed": true
   },
   "outputs": [],
   "source": [
    "using LightGraphs\n",
    "\n",
    "\"\"\"\n",
    "STABLE\n",
    "inverse logit function\n",
    "\"\"\"\n",
    "invLogit(x) = 1./(1.+e.^-x)   \n",
    "\n",
    "\"\"\"\n",
    "STABLE\n",
    "given graph and probability, adds a node which must have >0\n",
    "connections by flipping biased coin for each existing node\n",
    "\"\"\"\n",
    "function addNode2(graph, p)\n",
    "    add_vertex!(graph)\n",
    "    x = nv(graph)\n",
    "    degree = 0\n",
    "    while degree ==0\n",
    "        flips = rand(x-1)\n",
    "        for i = 1:x-1\n",
    "            if p[i]>flips[i]\n",
    "                add_edge!(graph,i,x)\n",
    "                degree +=1 \n",
    "            end\n",
    "        end\n",
    "    end\n",
    "    return graph\n",
    "end\n",
    "\n",
    "\n",
    "\"\"\"\n",
    "STABLE\n",
    "given graph, b vector, and a_0, adds a new node as specifiec by the model\n",
    "\"\"\"\n",
    "function addPrefNode(g,b,a_0 = -7)\n",
    "    n = nv(g)\n",
    "    L::SparseMatrixCSC{Int64,Int64} = laplacian_matrix(g)\n",
    "    a::Array{Float64,1} = lufact(L) \\ (b - mean(b))\n",
    "    p::Array{Float64,1} = invLogit(a+a_0)\n",
    "    addNode2(g,p)\n",
    "    push!(b,0)\n",
    "    return g\n",
    "end\n",
    "\n",
    "\n",
    "\"\"\"\n",
    "STABLE\n",
    "given graph and number of new edges desired, randomly adds edges between existing nodes\n",
    "\"\"\"\n",
    "function randEdgeGen(graph, newedges)\n",
    "    for i in 1:newedges\n",
    "        z = newedges\n",
    "        x = collect(1:nv(graph))\n",
    "        edge1 = rand(x)\n",
    "        deleteat!(x, edge1)\n",
    "        edge2 = rand(x)\n",
    "        add_edge!(graph,edge1,edge2)\n",
    "    end\n",
    "    return graph\n",
    "end\n",
    ";"
   ]
  },
  {
   "cell_type": "markdown",
   "metadata": {},
   "source": [
    "Optimization Functions"
   ]
  },
  {
   "cell_type": "code",
   "execution_count": null,
   "metadata": {
    "collapsed": false
   },
   "outputs": [],
   "source": [
    "\"\"\"\n",
    "STABLE\n",
    "soft threshold\n",
    "\"\"\"\n",
    "soft(c,lambda) = sign(c).*max(abs(c)-lambda/2,0)\n",
    "\n",
    "\"\"\"\n",
    "STABLE\n",
    "computes gradient\n",
    "\"\"\"\n",
    "function gradient2(a,a_0,u,L,rho,b,y)\n",
    "    convb::Array{Float64,2} =zeros(length(b),1)+b\n",
    "    grad::Array{Float64,2} = -1.*(y-invLogit(a+a_0))+L*u + rho*L*(L*a-convb)\n",
    "    return grad\n",
    "end;\n",
    "\n",
    "\n",
    "function gradient(a,a_0,u,L,rho,b,y)\n",
    "    grad = -1.*(y-invLogit(a+a_0))+L*u + rho*L*(L*a-b)\n",
    "    return grad\n",
    "end;\n",
    "\n",
    "\n",
    "\n",
    "\"\"\"\n",
    "STABLE\n",
    "computes hessian\n",
    "\"\"\"\n",
    "function hessian(a,a_0,rho,L)\n",
    "    hess = Diagonal(vec((invLogit(a+a_0).*(1-invLogit(a+a_0)))))+rho*L^2\n",
    "    return hess\n",
    "end;\n",
    "\n",
    "\n",
    "\n",
    "\n",
    "\"\"\"\n",
    "STABLE\n",
    "newton raphson for a update\n",
    "\"\"\"\n",
    "function newton(y_i,a_0,L,rho,b,u)\n",
    "    a::Array{Float64,2} = zeros(length(y_i),1)\n",
    "    a_old = a\n",
    "    iters = 0\n",
    "    diff = 1.0\n",
    "    while(diff >STOP_DIFF && iters< MAX_ITER )\n",
    "        grad = gradient2(a_old,a_0,u,L,rho,b,y_i)\n",
    "        hess = hessian(a_old,a_0, rho,L)\n",
    "        a = a_old - inv(hess)*grad\n",
    "        diff = norm(a-a_old)\n",
    "        a_old = a\n",
    "        iters = iters+1\n",
    "    end\n",
    "    if(iters == MAX_ITER)\n",
    "        print(\"max iter reached\")\n",
    "    end\n",
    "    return a\n",
    "end\n",
    ";\n",
    "\n",
    "\n"
   ]
  },
  {
   "cell_type": "markdown",
   "metadata": {},
   "source": [
    "ADMM Function"
   ]
  },
  {
   "cell_type": "code",
   "execution_count": null,
   "metadata": {
    "collapsed": false
   },
   "outputs": [],
   "source": [
    "\"\"\"\n",
    "2 Temp Vars UNSTABLE\n",
    "ADMM Function \n",
    "Parameters:\n",
    "A - Array of Array{Int64,2} of connections where each column is connections at time t\n",
    "L - Array of SparseMatrixCSC(Int64,Int64) where each index i is the laplacian at time t= i-1\n",
    "t - number of ending nodes\n",
    "t_0 - number of starting nodes\n",
    "lambda,rho -  Float64s for tuning and optimization\n",
    "\"\"\"\n",
    "function ADMM(A,L,t,t_0, rho, lambda)\n",
    "    new = t-t_0\n",
    "    a = zeros(t-1,new)\n",
    "    b::Array{Float64,2} = zeros(t_0,1)\n",
    "    u = zeros(t-1,new)\n",
    "    iters = 0\n",
    "    diff = 1.0\n",
    "    b_old = b;\n",
    "\twhile(diff >STOP_DIFF && iters< MAX_ITER )\n",
    "        #a update\n",
    "        for i in 1:new    \n",
    "            a[1:(t_0 +i-1),i]= newton(A[i],a_0,L[i],rho,[b' zeros(i-1)']',u[1:(t_0 +i-1),i])\n",
    "        end\n",
    "        #b update\n",
    "        c = zeros(t-1,1)\n",
    "        for i in 1:new\n",
    "            c[1:(t_0 +i-1)] = c[1:(t_0 +i-1)]+ (u[1:(t_0 +i-1),i]+rho*(L[i]*a[1:(t_0 +i-1),i]))/(rho*new)\n",
    "        end\n",
    "        b = soft(c[1:t_0],2*lambda/rho)\n",
    "        #u update\n",
    "        for i in 1:new\n",
    "            u[1:(t_0 +i-1),i] = u[1:(t_0 +i-1),i]+ rho*(L[i]*a[1:(t_0 +i-1),i]-[b' zeros(i-1)']')\n",
    "        end\n",
    "        diff  = norm(b-b_old)\n",
    "        b_old = b\n",
    "        println(diff)\n",
    "\tend\n",
    "\treturn b\n",
    "end\n",
    ";"
   ]
  },
  {
   "cell_type": "markdown",
   "metadata": {},
   "source": [
    "Example Graph Generation and Optimization Parameters for 5 nodes"
   ]
  },
  {
   "cell_type": "code",
   "execution_count": null,
   "metadata": {
    "collapsed": false
   },
   "outputs": [],
   "source": [
    "levels = 10     #number of levels in binary tree\n",
    "g = BinaryTree(levels)\n",
    "n = nv(g)\n",
    "b = (rand(n) .< 8 / n)*5. \n",
    "b[1] = 5\n",
    "genb = copy(b)  # save for later\n",
    "g = randEdgeGen(g,10000)\n",
    "A = Array{Int64,2}[]\n",
    "L =  SparseMatrixCSC{Int64,Int64}[]\n",
    "push!(L, laplacian_matrix(g))\n",
    "numnewnodes = 1\n",
    "a_0 = -4\n",
    "# creates matrix A and L where A[i] is the connections for ith node and L[i] is the laplacian of the i-1st time step \n",
    "for i in 1:numnewnodes  \n",
    "    g = addPrefNode(g,b, a_0)\n",
    "    push!(L,laplacian_matrix(g))\n",
    "    connects = zeros(2^levels-2+i,1)  #-1 for -1 1 coding\n",
    "    connects[neighbors(g,nv(g))] = 1\n",
    "    push!(A,connects)\n",
    "end\n",
    "\n",
    "\n",
    "t = 2^levels-1+numnewnodes #number of nodes at time t\n",
    "t_0 = 2^levels-1  # number of initial nodes\n",
    ";\n",
    "\n",
    "const MAX_ITER = 1000\n",
    "const STOP_DIFF = 0.001;\n",
    "\n",
    "rho = 1\n",
    "lambda = 0.0005\n",
    "new = numnewnodes\n",
    "\n"
   ]
  },
  {
   "cell_type": "markdown",
   "metadata": {},
   "source": [
    "Example ADMM"
   ]
  },
  {
   "cell_type": "code",
   "execution_count": null,
   "metadata": {
    "collapsed": true
   },
   "outputs": [],
   "source": [
    "ADMM(A,L,t,t_0,rho,lambda)"
   ]
  }
 ],
 "metadata": {
  "anaconda-cloud": {},
  "kernelspec": {
   "display_name": "Julia 0.5.0",
   "language": "julia",
   "name": "julia-0.5"
  },
  "language_info": {
   "file_extension": ".jl",
   "mimetype": "application/julia",
   "name": "julia",
   "version": "0.5.0"
  }
 },
 "nbformat": 4,
 "nbformat_minor": 1
}
