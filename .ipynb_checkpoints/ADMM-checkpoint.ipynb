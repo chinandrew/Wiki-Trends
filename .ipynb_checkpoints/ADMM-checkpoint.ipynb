{
 "cells": [
  {
   "cell_type": "markdown",
   "metadata": {},
   "source": [
    "Graph generation functions"
   ]
  },
  {
   "cell_type": "code",
   "execution_count": 1,
   "metadata": {
    "collapsed": false
   },
   "outputs": [],
   "source": [
    "using LightGraphs\n",
    "\n",
    "\"\"\"\n",
    "inverse logit function\n",
    "\"\"\"\n",
    "invLogit(x) = 1./(1.+e.^-x)   \n",
    "\n",
    "\"\"\"\n",
    "given graph and probability, adds a node which must have >0\n",
    "connections by flipping biased coin for each existing node\n",
    "\"\"\"\n",
    "function addNode2(graph, p)\n",
    "    add_vertex!(graph)\n",
    "    x = nv(graph)\n",
    "    degree = 0\n",
    "    while degree ==0\n",
    "        flips = rand(x-1)\n",
    "        for i = 1:x-1\n",
    "            if p[i]>flips[i]\n",
    "                add_edge!(graph,i,x)\n",
    "                degree +=1 \n",
    "            end\n",
    "        end\n",
    "    end\n",
    "    return graph\n",
    "end\n",
    "\n",
    "\n",
    "\"\"\"\n",
    "given graph, b vector, and a_0, adds a new node as specifiec by the model\n",
    "\"\"\"\n",
    "function addPrefNode(g,b,a_0 = -7)\n",
    "    n = nv(g)\n",
    "    L = laplacian_matrix(g)\n",
    "    a = lufact(L) \\ (b - mean(b))    \n",
    "    p = invLogit(a+a_0)\n",
    "    addNode2(g,p)\n",
    "    push!(b,0)\n",
    "    return g\n",
    "end\n",
    "\n",
    "\n",
    "\"\"\"\n",
    "given graph and number of new edges desired, randomly adds edges between existing nodes\n",
    "\"\"\"\n",
    "function randEdgeGen(graph, newedges)\n",
    "    for i in 1:newedges\n",
    "        z = newedges\n",
    "        x = collect(1:nv(graph))\n",
    "        edge1 = rand(x)\n",
    "        deleteat!(x, edge1)\n",
    "        edge2 = rand(x)\n",
    "        add_edge!(graph,edge1,edge2)\n",
    "    end\n",
    "    return graph\n",
    "end\n",
    ";"
   ]
  },
  {
   "cell_type": "markdown",
   "metadata": {},
   "source": [
    "Optimization functions"
   ]
  },
  {
   "cell_type": "code",
   "execution_count": 2,
   "metadata": {
    "collapsed": false,
    "scrolled": true
   },
   "outputs": [],
   "source": [
    "\"\"\"\n",
    "soft threshold\n",
    "\"\"\"\n",
    "soft(c,lambda) = sign(c).*max(abs(c)-lambda/2,0)\n",
    "\n",
    "\"\"\"\n",
    "computes gradient\n",
    "\"\"\"\n",
    "function gradient2(a,a_0,u,L,rho,b,y)\n",
    "#    grad = grad+ (y[i]-invLogit(a+a_0))+(u' * L)[0:t_0] + rho*(L*a-append!(b, zeros(t-t_o,1)))\n",
    "    grad = y-invLogit(a+a_0)+(u' * L)' - rho*L*(L*a-b)\n",
    "    return grad\n",
    "end;\n",
    "\n",
    "\n",
    "\"\"\"\n",
    "computes hessian\n",
    "\"\"\"\n",
    "function hessian(a,a_0,rho,L)\n",
    "    hess = Diagonal(vec((invLogit(a+a_0).*(1-invLogit(a+a_0)))))+rho*L^2\n",
    "    return -1*hess\n",
    "end;\n",
    "\n",
    "\n",
    "\n",
    "\n",
    "\"\"\"\n",
    "newton raphson for a update\n",
    "\"\"\"\n",
    "function newton(y_i,a_0,L,rho,b,u)\n",
    "    a = zeros(length(y_i),1)\n",
    "    a_old = a\n",
    "    iters = 0\n",
    "    diff = 1.0\n",
    "    while(diff >STOP_DIFF && iters< MAX_ITER )\n",
    "        grad = gradient2(a_old,a_0,u,L,rho,b,y_i)\n",
    "        hess = hessian(a_old,a_0, rho,L)\n",
    "        a = a_old - pinv(hess)*grad\n",
    "        diff = norm(a-a_old)\n",
    "        a_old = a\n",
    "        iters = iters+1\n",
    "    end\n",
    "    return a\n",
    "end\n",
    ";"
   ]
  },
  {
   "cell_type": "markdown",
   "metadata": {},
   "source": [
    "ADMM function"
   ]
  },
  {
   "cell_type": "code",
   "execution_count": 3,
   "metadata": {
    "collapsed": false
   },
   "outputs": [],
   "source": [
    "\"\"\"\n",
    "ADMM Function \n",
    "\"\"\"\n",
    "function ADMM(A,L,t,t_0,new, rho, lambda)\n",
    "\ta = zeros(t-1,new)\n",
    "\tb = zeros(t-1)\n",
    "\tu = zeros(t-1,new)\n",
    "#\talpha = 1.5  #relaxation parameter\n",
    "\titers = 0\n",
    "\tdiff = 1.0\n",
    "\tb_old = b\n",
    "\twhile(diff >STOP_DIFF && iters< MAX_ITER )\n",
    "        #a update and u update\n",
    "\t\tfor i in 1:new\n",
    "\t\t\ta[1:length(A[i]),i] = newton(A[i],a_0,L[i],rho,b[1:length(A[i])],u[1:length(A[i]),i])\n",
    "\t\t\tu[1:length(A[i]),i] = u[1:length(A[i]),i]+ rho*(L[i]*a[1:length(A[i]),i]-b[1:length(A[i])])\n",
    "\t\tend\n",
    "        #b update\n",
    "        #b update\n",
    "        c = zeros(t-1)\n",
    "        for i in 1:numnewnodes\n",
    "            c[1:size(L[i])[1]] = c[1:1:size(L[i])[1]]+ u[1:size(L[i])[1],i]+rho*(L[i]*a[1:size(L[i])[1],i])/((t-t_0)*rho/2)\n",
    "        end\n",
    "        b = soft(c,lambda)\n",
    "        diff  = norm(b-b_old)\n",
    "        b_old = b\n",
    "\tend\n",
    "\treturn b\n",
    "end\n",
    ";"
   ]
  },
  {
   "cell_type": "markdown",
   "metadata": {},
   "source": [
    "Generating graph and collecting connection and Laplacian data from each time point"
   ]
  },
  {
   "cell_type": "code",
   "execution_count": 4,
   "metadata": {
    "collapsed": false
   },
   "outputs": [],
   "source": [
    "levels = 10     #number of levels in binary tree\n",
    "g = BinaryTree(levels)\n",
    "n = nv(g)\n",
    "b = (rand(n) .< 8 / n)*1. \n",
    "genb = b\n",
    "g = randEdgeGen(g,1000)\n",
    "A = Array{Int64,2}[]\n",
    "L =  SparseMatrixCSC{Int64,Int64}[]\n",
    "push!(L, laplacian_matrix(g))\n",
    "numnewnodes = 5\n",
    "a_0 = -5\n",
    "# creates matrix A and L where A[i] is the connections for ith node and L[i] is the laplacian of the i-1st time step \n",
    "for i in 1:numnewnodes  \n",
    "    g = addPrefNode(g,b, a_0)\n",
    "    push!(L,laplacian_matrix(g))\n",
    "    connects = zeros(2^levels-2+i,1)  #-1 for -1 1 coding\n",
    "    connects[neighbors(g,nv(g))] = 1\n",
    "    push!(A,connects)\n",
    "end\n",
    "\n",
    "\n",
    "t = 2^levels-1+numnewnodes #number of nodes at time t\n",
    "t_0 = 2^levels-1  # number of initial nodes\n",
    ";"
   ]
  },
  {
   "cell_type": "markdown",
   "metadata": {},
   "source": [
    "Below code sets up vectors and initial values"
   ]
  },
  {
   "cell_type": "code",
   "execution_count": 5,
   "metadata": {
    "collapsed": false
   },
   "outputs": [],
   "source": [
    "const MAX_ITER = 1000\n",
    "const STOP_DIFF = 0.001;\n",
    "\n",
    "rho = 2\n",
    "lambda = 1.1\n",
    "new = numnewnodes\n",
    "a = zeros(t-1,new)\n",
    "b = zeros(t-1)\n",
    "u = zeros(t-1,new)\n",
    "#\talpha = 1.5  #relaxation parameter\n",
    "iters = 0\n",
    "diff = 1.0\n",
    "b_old = b;"
   ]
  },
  {
   "cell_type": "markdown",
   "metadata": {},
   "source": [
    "One iteration of updates"
   ]
  },
  {
   "cell_type": "code",
   "execution_count": 6,
   "metadata": {
    "collapsed": false
   },
   "outputs": [
    {
     "data": {
      "text/plain": [
       "3.918355881507811"
      ]
     },
     "execution_count": 6,
     "metadata": {},
     "output_type": "execute_result"
    }
   ],
   "source": [
    "for i in 1:new\n",
    "\ta[1:length(A[i]),i] = newton(A[i],a_0,L[i],rho,b[1:length(A[i])],u[1:length(A[i]),i])\n",
    "\tu[1:length(A[i]),i] = u[1:length(A[i]),i]+ rho*(L[i]*a[1:length(A[i]),i]-b[1:length(A[i])])\n",
    "end\n",
    "#b update\n",
    "c = zeros(t-1)\n",
    "for i in 1:numnewnodes\n",
    "    c[1:size(L[i])[1]] = c[1:size(L[i])[1]]+ u[1:size(L[i])[1],i]+rho*(L[i]*a[1:size(L[i])[1],i])/((t-t_0)*rho/2)\n",
    "end\n",
    "b = soft(c,lambda)\n",
    "diff  = norm(b-b_old)\n",
    "b_old = b\n",
    "diff"
   ]
  },
  {
   "cell_type": "code",
   "execution_count": 15,
   "metadata": {
    "collapsed": false
   },
   "outputs": [
    {
     "name": "stdout",
     "output_type": "stream",
     "text": [
      "0.0\n",
      "2.0158413389636287\n",
      "12.025594157758933\n",
      "102.5928239210883\n",
      "907.7656845494644\n"
     ]
    }
   ],
   "source": [
    "for j in 1:5     \n",
    "    for i in 1:new\n",
    "        a[1:length(A[i]),i] = newton(A[i],a_0,L[i],rho,b[1:length(A[i])],u[1:length(A[i]),i])\n",
    "    end\n",
    "    #b update\n",
    "    c = zeros(t-1)\n",
    "    for i in 1:numnewnodes\n",
    "        c[1:size(L[i])[1]] = c[1:size(L[i])[1]]+ u[1:size(L[i])[1],i]+rho*(L[i]*a[1:size(L[i])[1],i])/((t-t_0)*rho/2)\n",
    "    end\n",
    "    b = soft(c,lambda)\n",
    "    for i in 1:new\n",
    "        u[1:length(A[i]),i] = u[1:length(A[i]),i]+ rho*(L[i]*a[1:length(A[i]),i]-b[1:length(A[i])])\n",
    "    end\n",
    "    diff  = norm(b-b_old)\n",
    "    b_old = b\n",
    "    println(diff)\n",
    "end"
   ]
  },
  {
   "cell_type": "code",
   "execution_count": 6,
   "metadata": {
    "collapsed": false,
    "scrolled": false
   },
   "outputs": [
    {
     "name": "stdout",
     "output_type": "stream",
     "text": [
      "0.0\n",
      "2.7295039042811244\n",
      "17.581005136043153\n",
      "152.03122747240582\n",
      "1347.699860709158\n"
     ]
    }
   ],
   "source": [
    "for j in 1:5\n",
    "    for i in 1:new\n",
    "        a[1:length(A[i]),i] = newton(A[i],a_0,L[i],rho,b[1:length(A[i])],u[1:length(A[i]),i])\n",
    "    end\n",
    "    #b update\n",
    "    c = zeros(t-1)\n",
    "    for i in 1:numnewnodes\n",
    "        c[1:size(L[i])[1]] = c[1:size(L[i])[1]]+ u[1:size(L[i])[1],i]+rho*(L[i]*a[1:size(L[i])[1],i])/((t-t_0)*rho/2)\n",
    "    end\n",
    "    b = soft(c,lambda)\n",
    "    for i in 1:new\n",
    "        u[1:length(A[i]),i] = u[1:length(A[i]),i]+ rho*(L[i]*a[1:length(A[i]),i]-b[1:length(A[i])])\n",
    "    end\n",
    "    diff  = norm(b-b_old)\n",
    "    b_old = b\n",
    "    println(diff)\n",
    "end"
   ]
  }
 ],
 "metadata": {
  "anaconda-cloud": {},
  "kernelspec": {
   "display_name": "Julia 0.5.0",
   "language": "julia",
   "name": "julia-0.5"
  },
  "language_info": {
   "file_extension": ".jl",
   "mimetype": "application/julia",
   "name": "julia",
   "version": "0.5.0"
  }
 },
 "nbformat": 4,
 "nbformat_minor": 1
}
