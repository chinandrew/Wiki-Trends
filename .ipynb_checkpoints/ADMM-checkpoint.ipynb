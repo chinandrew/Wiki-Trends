{
 "cells": [
  {
   "cell_type": "code",
   "execution_count": 1,
   "metadata": {
    "collapsed": false,
    "scrolled": true
   },
   "outputs": [
    {
     "data": {
      "text/plain": [
       "soft (generic function with 1 method)"
      ]
     },
     "execution_count": 1,
     "metadata": {},
     "output_type": "execute_result"
    }
   ],
   "source": [
    "using LightGraphs\n",
    "\n",
    "invLogit(x) = 1./(1.+e.^-x)   \n",
    "\n",
    "function addNode2(graph, p)\n",
    "    add_vertex!(graph)\n",
    "    x = nv(graph)\n",
    "    degree = 0\n",
    "    while degree ==0\n",
    "        flips = rand(x-1)\n",
    "        for i = 1:x-1\n",
    "            if p[i]>flips[i]\n",
    "                add_edge!(graph,i,x)\n",
    "                degree +=1 \n",
    "            end\n",
    "        end\n",
    "    end\n",
    "    return graph\n",
    "end\n",
    "\n",
    "function addPrefNode(g,b,a_0 = -7)\n",
    "    n = nv(g)\n",
    "    L = laplacian_matrix(g)\n",
    "    a = lufact(L) \\ (b - mean(b))    \n",
    "    p = invLogit(a+a_0)\n",
    "    addNode2(g,p)\n",
    "    push!(b,0)\n",
    "    return g\n",
    "end\n",
    "\n",
    "function randEdgeGen(graph, newedges)\n",
    "    for i in 1:newedges\n",
    "        z = newedges\n",
    "        x = collect(1:nv(graph))\n",
    "        edge1 = rand(x)\n",
    "        deleteat!(x, edge1)\n",
    "        edge2 = rand(x)\n",
    "        add_edge!(graph,edge1,edge2)\n",
    "    end\n",
    "    return graph\n",
    "end\n",
    "\n",
    "const MAX_ITER = 5000\n",
    "const STOP_DIFF = 0.0001;\n",
    "\n",
    "# a update(Newton Raphson)\n",
    "\n",
    "\n",
    "#y-1./(1.+e.^-(a+a_0))+(u' * L)' + rho*L*(L*a-b)   \n",
    "\n",
    "\n",
    "function gradient2(a,a_0,u,L,rho,b,y)\n",
    "#\tgrad = grad+ (y[i]-invLogit(a+a_0))+(u' * L)[0:t_0] + rho*(L*a-append!(b, zeros(t-t_o,1)))\n",
    "    grad = y-invLogit(a+a_0)+(u' * L)' + rho*L*(L*a-b)\n",
    "\treturn grad\n",
    "end;\n",
    "\n",
    "\n",
    "function hessian(a,a_0,rho,L)\n",
    "    hess = -1*Diagonal(vec((invLogit(a+a_0).*(1-invLogit(a+a_0)))))+rho*L^2\n",
    "    return hess\n",
    "end;\n",
    "\n",
    "\n",
    "function newton(y_i,a_0,L,rho,b,u)\n",
    "    a = zeros(length(y_i),1)\n",
    "    a_old = a\n",
    "    iters = 0\n",
    "    diff = 1.0\n",
    "    while(diff >STOP_DIFF && iters< MAX_ITER )\n",
    "        grad = gradient2(a_old,a_0,u,L,rho,b,y_i)\n",
    "        hess = hessian(a_old,a_0, rho,L)\n",
    "        a = a_old - pinv(hess)*grad\n",
    "        diff = norm(a-a_old)\n",
    "        a_old = a\n",
    "        iters = iters+1\n",
    "    end\n",
    "    return a\n",
    "end\n",
    "\n",
    "# b update(Soft Treshold)\n",
    "\n",
    "function soft(a,u,rho, lambda,t,t_0)\n",
    "    c= zeros(t_0)\n",
    "    for i in (t_0+1):(t-1)\n",
    "        c+ u[1:t_0]+rho*(L*a)[1:t_0]\n",
    "    end\n",
    "    c = c/(t-t_0)*2/rho\n",
    "    return sign(c).*max(abs(c)-lambda/2,0)\n",
    "end\n",
    "\n"
   ]
  },
  {
   "cell_type": "code",
   "execution_count": 2,
   "metadata": {
    "collapsed": false
   },
   "outputs": [],
   "source": [
    "\n",
    "levels = 10\n",
    "g = BinaryTree(levels)\n",
    "n = nv(g)\n",
    "b = (rand(n) .< 8 / n)*1. ;\n",
    "g = randEdgeGen(g,1000)\n",
    "A = Array{Int64,2}[]\n",
    "L =  SparseMatrixCSC{Int64,Int64}[]\n",
    "numnewnodes = 5\n",
    "for i in 1:numnewnodes\n",
    "    g = addPrefNode(g,b)\n",
    "    push!(L,laplacian_matrix(g))\n",
    "    connects = zeros(2^levels-1+numnewnodes,1)  #-1 for -1 1 coding\n",
    "    connects[neighbors(g,nv(g))] = 1\n",
    "    push!(A,connects)\n",
    "end\n"
   ]
  },
  {
   "cell_type": "code",
   "execution_count": 3,
   "metadata": {
    "collapsed": false
   },
   "outputs": [
    {
     "data": {
      "text/plain": [
       "ADMM (generic function with 1 method)"
      ]
     },
     "execution_count": 3,
     "metadata": {},
     "output_type": "execute_result"
    }
   ],
   "source": [
    "function ADMM(A,L,t,t_0,new)\n",
    "\ta = zeros(t,new)\n",
    "\tb = zeros(t)\n",
    "\tu = zeros(t,new)\n",
    "#\talpha = 1.5  #relaxation parameter\n",
    "\titers = 0\n",
    "\tdiff = 1.0\n",
    "\tb_old = b\n",
    "\twhile(diff >STOP_DIFF && iters< MAX_ITER )\n",
    "\t\t#a update\n",
    "\t\tfor i in t_0:t\n",
    "\t\t\ta[:,i] = newton(A[i],a_0,L,rho,b[1:length(A[i])])\n",
    "\t\t\tu[:,i] = u[i]+ rho*(L[i]*a[:,i]-b[1:length(A[i])])\n",
    "\t\tend\n",
    "\t\tc = zeros(t)\n",
    "\t\tfor i in t_0:t\n",
    "\t\t\tc = c+ u[:,i]'+rho(L[i]*a[:,i])/((t-t_0)*rho/2)\n",
    "\t\tend\n",
    "\t\tb = sign(c).*max(abs(c)-lambda/2,0) #soft(c)\n",
    "\t\tdiff  = norm(b-b_old)\n",
    "\t\tb_old = b\n",
    "\tend\n",
    "\treturn a\n",
    "end\n"
   ]
  },
  {
   "cell_type": "code",
   "execution_count": 14,
   "metadata": {
    "collapsed": false
   },
   "outputs": [
    {
     "data": {
      "text/plain": [
       "-7"
      ]
     },
     "execution_count": 14,
     "metadata": {},
     "output_type": "execute_result"
    }
   ],
   "source": [
    "\n",
    "levels = 10\n",
    "rho = 1.1\n",
    "lambda = 1.1\n",
    "a_0 = -7\n",
    "g = BinaryTree(levels)\n",
    "n = nv(g)\n",
    "b = (rand(n) .< 8 / n)*1. ;\n",
    "g = randEdgeGen(g,1000)\n",
    "A = Array{Int64,2}[]\n",
    "L =  SparseMatrixCSC{Int64,Int64}[]\n",
    "numnewnodes = 5\n",
    "for i in 1:numnewnodes\n",
    "    g = addPrefNode(g,b)\n",
    "    push!(L,laplacian_matrix(g))\n",
    "    connects = zeros(2^levels-1+i,1)  #-1 for -1 1 coding\n",
    "    connects[neighbors(g,nv(g))] = 1\n",
    "    push!(A,connects)\n",
    "end\n",
    "\n",
    "t = 2^levels-1+numnewnodes\n",
    "t_0 = 2^levels-1\n",
    "u = zeros(t,1)+0.2;\n",
    "rho = 1.1\n",
    "lambda = 1.1\n",
    "a_0 = -7"
   ]
  },
  {
   "cell_type": "code",
   "execution_count": 17,
   "metadata": {
    "collapsed": false
   },
   "outputs": [],
   "source": [
    "a = zeros(t,numnewnodes)\n",
    "b = zeros(t)\n",
    "u = zeros(t,numnewnodes)\n",
    "#\talpha = 1.5  #relaxation parameter\n",
    "iters = 0\n",
    "diff = 1.0\n",
    "b_old = b;"
   ]
  },
  {
   "cell_type": "code",
   "execution_count": 28,
   "metadata": {
    "collapsed": false
   },
   "outputs": [
    {
     "name": "stderr",
     "output_type": "stream",
     "text": [
      "WARNING: Method definition ADMM(Any, Any, Any, Any, Any) in module Main at In[3]:4 overwritten at In[28]:2.\n"
     ]
    },
    {
     "data": {
      "text/plain": [
       "ADMM (generic function with 1 method)"
      ]
     },
     "execution_count": 28,
     "metadata": {},
     "output_type": "execute_result"
    }
   ],
   "source": [
    "function ADMM(A,L,t,t_0,new)\n",
    "\ta = zeros(t,new)\n",
    "\tb = zeros(t)\n",
    "\tu = zeros(t,new)\n",
    "#\talpha = 1.5  #relaxation parameter\n",
    "\titers = 0\n",
    "\tdiff = 1.0\n",
    "\tb_old = b\n",
    "\twhile(diff >STOP_DIFF && iters< MAX_ITER )\n",
    "\t\t#a update\n",
    "\t\tfor i in t_0:t\n",
    "\t\t\ta[1:length(A[i]),i] = newton(A[i],a_0,L[i],rho,b[1:length(A[i])],u[:,i])\n",
    "\t\t\tu[1:length(A[i]),i] = u[1:length(A[i]),i]+ rho*(L[i]*a[:,i]-b[1:length(A[i])])\n",
    "\t\tend\n",
    "\t\tc = zeros(t)\n",
    "\t\tfor i in t_0:t\n",
    "\t\t\tc = c+ u[:,i]'+rho(L[i]*a[:,i])/((t-t_0)*rho/2)\n",
    "\t\tend\n",
    "\t\tb = sign(c).*max(abs(c)-lambda/2,0) #soft(c)\n",
    "\t\tdiff  = norm(b-b_old)\n",
    "\t\tb_old = b\n",
    "\tend\n",
    "\treturn b\n",
    "end\n"
   ]
  }
 ],
 "metadata": {
  "anaconda-cloud": {},
  "kernelspec": {
   "display_name": "Julia 0.5.0",
   "language": "julia",
   "name": "julia-0.5"
  },
  "language_info": {
   "file_extension": ".jl",
   "mimetype": "application/julia",
   "name": "julia",
   "version": "0.5.0"
  }
 },
 "nbformat": 4,
 "nbformat_minor": 1
}
