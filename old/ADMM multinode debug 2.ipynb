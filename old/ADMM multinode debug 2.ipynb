{
 "cells": [
  {
   "cell_type": "markdown",
   "metadata": {},
   "source": [
    "Notes:\n",
    "-prob decreases as node increases"
   ]
  },
  {
   "cell_type": "code",
   "execution_count": 1,
   "metadata": {
    "collapsed": false
   },
   "outputs": [],
   "source": [
    "using LightGraphs\n",
    "\n",
    "\"\"\"\n",
    "inverse logit function\n",
    "\"\"\"\n",
    "invLogit(x) = 1./(1.+e.^-x)   \n",
    "\n",
    "\"\"\"\n",
    "given graph and probability, adds a node which must have >0\n",
    "connections by flipping biased coin for each existing node\n",
    "\"\"\"\n",
    "function addNode2(graph, p)\n",
    "    add_vertex!(graph)\n",
    "    x = nv(graph)\n",
    "    degree = 0\n",
    "    while degree ==0\n",
    "        flips = rand(x-1)\n",
    "        for i = 1:x-1\n",
    "            if p[i]>flips[i]\n",
    "                add_edge!(graph,i,x)\n",
    "                degree +=1 \n",
    "            end\n",
    "        end\n",
    "    end\n",
    "    return graph\n",
    "end\n",
    "\n",
    "\n",
    "\"\"\"\n",
    "given graph, b vector, and a_0, adds a new node as specifiec by the model\n",
    "\"\"\"\n",
    "function addPrefNode(g,b,a_0 = -7)\n",
    "    n = nv(g)\n",
    "    L = laplacian_matrix(g)\n",
    "    a = lufact(L) \\ (b - mean(b))    \n",
    "    p = invLogit(a+a_0)\n",
    "    addNode2(g,p)\n",
    "    push!(b,0)\n",
    "    return g\n",
    "end\n",
    "\n",
    "\n",
    "\"\"\"\n",
    "given graph and number of new edges desired, randomly adds edges between existing nodes\n",
    "\"\"\"\n",
    "function randEdgeGen(graph, newedges)\n",
    "    for i in 1:newedges\n",
    "        z = newedges\n",
    "        x = collect(1:nv(graph))\n",
    "        edge1 = rand(x)\n",
    "        deleteat!(x, edge1)\n",
    "        edge2 = rand(x)\n",
    "        add_edge!(graph,edge1,edge2)\n",
    "    end\n",
    "    return graph\n",
    "end\n",
    ";"
   ]
  },
  {
   "cell_type": "code",
   "execution_count": 2,
   "metadata": {
    "collapsed": false
   },
   "outputs": [],
   "source": [
    "\"\"\"\n",
    "soft threshold\n",
    "\"\"\"\n",
    "soft(c,lambda) = sign(c).*max(abs(c)-lambda/2,0)\n",
    "\n",
    "\"\"\"\n",
    "computes gradient\n",
    "\"\"\"\n",
    "function gradient2(a,a_0,u,L,rho,b,y)\n",
    "    grad = -1.*(y-invLogit(a+a_0))+L*u + rho*L*(L*a-b)\n",
    "    return grad\n",
    "end;\n",
    "\n",
    "\n",
    "\"\"\"\n",
    "computes hessian\n",
    "\"\"\"\n",
    "function hessian(a,a_0,rho,L)\n",
    "    hess = Diagonal(vec((invLogit(a+a_0).*(1-invLogit(a+a_0)))))+rho*L^2\n",
    "    return hess\n",
    "end;\n",
    "\n",
    "\n",
    "\n",
    "\n",
    "\"\"\"\n",
    "newton raphson for a update\n",
    "\"\"\"\n",
    "function newton(y_i,a_0,L,rho,b,u)\n",
    "    a = zeros(length(y_i),1)\n",
    "    a_old = a\n",
    "    iters = 0\n",
    "    diff = 1.0\n",
    "    while(diff >STOP_DIFF && iters< MAX_ITER )\n",
    "        grad = gradient2(a_old,a_0,u,L,rho,b,y_i)\n",
    "        hess = hessian(a_old,a_0, rho,L)\n",
    "        a = a_old - inv(hess)*grad\n",
    "        diff = norm(a-a_old)\n",
    "        a_old = a\n",
    "        iters = iters+1\n",
    "    end\n",
    "    if(iters == MAX_ITER)\n",
    "        print(\"max iter reached\")\n",
    "    end\n",
    "    return a\n",
    "end\n",
    ";\n",
    "\n",
    "\n"
   ]
  },
  {
   "cell_type": "code",
   "execution_count": 3,
   "metadata": {
    "collapsed": false
   },
   "outputs": [],
   "source": [
    "levels = 10     #number of levels in binary tree\n",
    "g = BinaryTree(levels)\n",
    "n = nv(g)\n",
    "b = (rand(n) .< 8 / n)*5. \n",
    "b[1] = 5\n",
    "genb = copy(b)  # save for later\n",
    "g = randEdgeGen(g,10000)\n",
    "A = Array{Int64,2}[]\n",
    "L =  SparseMatrixCSC{Int64,Int64}[]\n",
    "push!(L, laplacian_matrix(g))\n",
    "numnewnodes = 30\n",
    "a_0 = -4\n",
    "# creates matrix A and L where A[i] is the connections for ith node and L[i] is the laplacian of the i-1st time step \n",
    "for i in 1:numnewnodes  \n",
    "    g = addPrefNode(g,b, a_0)\n",
    "    push!(L,laplacian_matrix(g))\n",
    "    connects = zeros(2^levels-2+i,1)  #-1 for -1 1 coding\n",
    "    connects[neighbors(g,nv(g))] = 1\n",
    "    push!(A,connects)\n",
    "end\n",
    "\n",
    "\n",
    "t = 2^levels-1+numnewnodes #number of nodes at time t\n",
    "t_0 = 2^levels-1  # number of initial nodes\n",
    ";\n",
    "\n",
    "const MAX_ITER = 1000\n",
    "const STOP_DIFF = 0.001;\n",
    "\n",
    "rho = 2\n",
    "lambda = 0.0001\n",
    "new = numnewnodes\n",
    "a = zeros(t-1,new)\n",
    "b = zeros(t_0)\n",
    "u = zeros(t-1,new)\n",
    "iters = 0\n",
    "diff = 1.0\n",
    "b_old = b;\n"
   ]
  },
  {
   "cell_type": "markdown",
   "metadata": {},
   "source": [
    "Current"
   ]
  },
  {
   "cell_type": "code",
   "execution_count": 6,
   "metadata": {
    "collapsed": false,
    "scrolled": true
   },
   "outputs": [
    {
     "name": "stdout",
     "output_type": "stream",
     "text": [
      "0.020144972278299835\n",
      "0.02014405866176236\n",
      "0.020143145049503302\n",
      "0.02014223144152998\n",
      "0.020141317837851797\n",
      "0.02014040423847642\n",
      "0.020139490643411473\n",
      "0.02013857705266587\n",
      "0.02013766346624706\n",
      "0.02013674988416393\n",
      "0.020135836306424848\n",
      "0.02013492273303654\n",
      "0.0201340091640073\n",
      "0.020133095599346753\n",
      "0.02013218203906247\n",
      "0.020131268483161976\n",
      "0.020130354931655024\n",
      "0.020129441384547763\n",
      "0.02012852784184913\n",
      "0.02012761430356753\n",
      "0.020126700769712718\n",
      "0.020125787240289437\n",
      "0.020124873715309195\n",
      "0.020123960194777628\n",
      "0.020123046678704945\n",
      "0.020122133167098665\n",
      "0.020121219659967448\n",
      "0.020120306157318565\n",
      "0.020119392659161257\n",
      "0.020118479165502308\n",
      "0.020117565676352152\n",
      "0.020116652191717502\n",
      "0.02011573871160665\n"
     ]
    },
    {
     "ename": "LoadError",
     "evalue": "InterruptException:",
     "output_type": "error",
     "traceback": [
      "InterruptException:",
      "",
      " in getrf!(::Array{Float64,2}) at ./linalg/lapack.jl:537",
      " in lufact!(::Array{Float64,2}, ::Type{Val{true}}) at ./linalg/lu.jl:19",
      " in inv(::Array{Float64,2}) at ./linalg/dense.jl:364",
      " in newton(::Array{Int64,2}, ::Int64, ::SparseMatrixCSC{Int64,Int64}, ::Int64, ::Array{Float64,2}, ::Array{Float64,1}) at ./In[2]:37",
      " in macro expansion; at ./In[6]:5 [inlined]",
      " in macro expansion; at ./util.jl:184 [inlined]",
      " in anonymous at ./<missing>:?"
     ]
    }
   ],
   "source": [
    "@time begin\n",
    "\n",
    "for j in 1:800 \n",
    "\tfor i in 1:new    \n",
    "   \t\ta[1:(t_0 +i-1),i]= newton(A[i],a_0,L[i],rho,[b' zeros(i-1)']',u[1:(t_0 +i-1),i])\n",
    "   \tend\n",
    "        \n",
    "    #b update\n",
    "    c = zeros(t-1)\n",
    "    for i in 1:new\n",
    "        c[1:(t_0 +i-1)] = c[1:(t_0 +i-1)]+ (u[1:(t_0 +i-1),i]+rho*(L[i]*a[1:(t_0 +i-1),i]))/(rho*new)\n",
    "    end\n",
    "    b = soft(c[1:t_0],2*lambda/rho)\n",
    "    for i in 1:new\n",
    "    \tu[1:(t_0 +i-1),i] = u[1:(t_0 +i-1),i]+ rho*(L[i]*a[1:(t_0 +i-1),i]-[b' zeros(i-1)']')\n",
    "    end\n",
    "    diff  = norm(b-b_old)\n",
    "    b_old = b\n",
    "    println(diff)\n",
    "end\n",
    "\n",
    "\n",
    "end\n"
   ]
  },
  {
   "cell_type": "code",
   "execution_count": 8,
   "metadata": {
    "collapsed": false
   },
   "outputs": [
    {
     "data": {
      "text/plain": [
       "1023-element Array{Float64,1}:\n",
       " -1.09439 \n",
       " -1.06934 \n",
       " -1.02492 \n",
       " -1.011   \n",
       " -0.999319\n",
       " -0.986744\n",
       " -0.94665 \n",
       " -0.905016\n",
       " -0.89458 \n",
       " -0.871695\n",
       " -0.864714\n",
       " -0.86192 \n",
       " -0.855307\n",
       "  ⋮       \n",
       "  2.08744 \n",
       "  2.16603 \n",
       "  2.16905 \n",
       "  2.25406 \n",
       "  2.32196 \n",
       "  2.3836  \n",
       "  2.46459 \n",
       "  2.88548 \n",
       "  3.02834 \n",
       "  3.24035 \n",
       "  3.28126 \n",
       "  3.73887 "
      ]
     },
     "execution_count": 8,
     "metadata": {},
     "output_type": "execute_result"
    }
   ],
   "source": [
    "sort(b[:,1])"
   ]
  },
  {
   "cell_type": "code",
   "execution_count": 7,
   "metadata": {
    "collapsed": false
   },
   "outputs": [
    {
     "data": {
      "text/plain": [
       "45.0"
      ]
     },
     "execution_count": 7,
     "metadata": {},
     "output_type": "execute_result"
    }
   ],
   "source": [
    "sum(genb)"
   ]
  },
  {
   "cell_type": "markdown",
   "metadata": {},
   "source": [
    "Old version"
   ]
  },
  {
   "cell_type": "markdown",
   "metadata": {
    "collapsed": false,
    "scrolled": true
   },
   "source": [
    "@time begin\n",
    "\n",
    "for j in 1:50     \n",
    "    for i in 1:new\n",
    "        a[1:length(A[i]),i] = newton(A[i],a_0,L[i],rho,[b' zeros(i-1)']',u[1:length(A[i]),i])\n",
    "    end\n",
    "    #b update\n",
    "    c = zeros(t-1)\n",
    "    for i in 1:new\n",
    "        c[1:size(L[i])[1]] = c[1:size(L[i])[1]]+ u[1:size(L[i])[1],i]+rho*(L[i]*a[1:size(L[i])[1],i])/(rho)\n",
    "    end\n",
    "    b = soft(c[1:t_0],lambda)\n",
    "    for i in 1:new\n",
    "        u[1:length(A[i]),i] = u[1:length(A[i]),i]+ rho*(L[i]*a[1:length(A[i]),i]-[b' zeros(i-1)']')\n",
    "    end\n",
    "    diff  = norm(b-b_old)\n",
    "    b_old = b\n",
    "    println(diff)\n",
    "end\n",
    "    \n",
    "end"
   ]
  },
  {
   "cell_type": "markdown",
   "metadata": {
    "collapsed": false,
    "scrolled": true
   },
   "source": [
    "sort(b[:,1])"
   ]
  },
  {
   "cell_type": "markdown",
   "metadata": {},
   "source": [
    "Ver 2"
   ]
  },
  {
   "cell_type": "markdown",
   "metadata": {
    "collapsed": true
   },
   "source": [
    "@time begin\n",
    "\n",
    "for j in 1:50 \n",
    "\tfor i in 1:new    \n",
    "   \t\ta[1:(t_0 +i-1),i]= newton(A[i],a_0,L[i],rho,[b' zeros(i-1)']',u[1:(t_0 +i-1),i])\n",
    "   \tend\n",
    "        \n",
    "    #b update\n",
    "    c = zeros(t-1)\n",
    "    for i in 1:new\n",
    "    \tc[1:(t_0 +i-1)] = c[1:(t_0 +i-1)]+ u[1:(t_0 +i-1),i]+rho*(L[i]*a[1:(t_0 +i-1),i])/(rho)\n",
    "    end\n",
    "    b = soft(c[1:t_0],lambda)\n",
    "    for i in 1:new\n",
    "    \tu[1:(t_0 +i-1),i] = u[1:(t_0 +i-1),i]+ rho*(L[i]*a[1:(t_0 +i-1),i]-[b' zeros(i-1)']')\n",
    "    end\n",
    "    diff  = norm(b-b_old)\n",
    "    b_old = b\n",
    "    println(diff)\n",
    "end\n",
    "\n",
    "\n",
    "end\n"
   ]
  },
  {
   "cell_type": "markdown",
   "metadata": {},
   "source": [
    "Ver 3"
   ]
  },
  {
   "cell_type": "markdown",
   "metadata": {
    "collapsed": true
   },
   "source": [
    "b"
   ]
  },
  {
   "cell_type": "markdown",
   "metadata": {
    "collapsed": false,
    "scrolled": false
   },
   "source": [
    "@time begin\n",
    "\n",
    "b = zeros(t-1)\n",
    "b_old = b\n",
    "for j in 1:50 \n",
    "\tfor i in 1:new    \n",
    "   \t\ta[1:(t_0 +i-1),i]= newton(A[i],a_0,L[i],rho,b[1:(t_0 +i-1)],u[1:(t_0 +i-1),i])\n",
    "   \tend\n",
    "        \n",
    "    #b update\n",
    "    c = zeros(t-1)\n",
    "    for i in 1:new\n",
    "    \tc[1:(t_0 +i-1)] = c[1:(t_0 +i-1)]+ u[1:(t_0 +i-1),i]+rho*(L[i]*a[1:(t_0 +i-1),i])/(rho)\n",
    "    end\n",
    "    b = soft(c,lambda)\n",
    "    for i in 1:new\n",
    "    \tu[1:(t_0 +i-1),i] = u[1:(t_0 +i-1),i]+ rho*(L[i]*a[1:(t_0 +i-1),i]-b[1:(t_0 +i-1)])\n",
    "    end\n",
    "    diff  = norm(b-b_old)\n",
    "    b_old = b\n",
    "    println(diff)\n",
    "end\n",
    "\n",
    "@time begin\n",
    "for j in 1:1000     \n",
    "    a= newton(A,a_0,L,rho,b,u)\n",
    "    #b update\n",
    "    c = zeros(t-1)\n",
    "    c = c+ u+rho*(L*a)/(rho)\n",
    "    b = soft(c,lambda)\n",
    "    u = u+ rho*(L*a-b)\n",
    "    diff  = norm(b-b_old)\n",
    "    b_old = b\n",
    "    println(diff)\n",
    "end\n",
    "end\n",
    "end\n"
   ]
  }
 ],
 "metadata": {
  "anaconda-cloud": {},
  "kernelspec": {
   "display_name": "Julia 0.5.0",
   "language": "julia",
   "name": "julia-0.5"
  },
  "language_info": {
   "file_extension": ".jl",
   "mimetype": "application/julia",
   "name": "julia",
   "version": "0.5.0"
  }
 },
 "nbformat": 4,
 "nbformat_minor": 1
}
