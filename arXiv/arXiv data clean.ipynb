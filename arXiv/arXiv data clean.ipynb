{
 "cells": [
  {
   "cell_type": "markdown",
   "metadata": {},
   "source": [
    "# Removing Dateless items"
   ]
  },
  {
   "cell_type": "code",
   "execution_count": 1,
   "metadata": {
    "collapsed": true
   },
   "outputs": [],
   "source": [
    "import pandas as pd\n",
    "import datetime\n",
    "import itertools\n",
    "import numpy as np"
   ]
  },
  {
   "cell_type": "code",
   "execution_count": 2,
   "metadata": {
    "collapsed": true
   },
   "outputs": [],
   "source": [
    "dates =pd.read_table(\"cit-HepPh-dates.txt\", header = None)\n",
    "dates.columns =['id', 'date']"
   ]
  },
  {
   "cell_type": "code",
   "execution_count": 3,
   "metadata": {
    "collapsed": true
   },
   "outputs": [],
   "source": [
    "raw = pd.read_table(\"Cit-HepPh.txt\", header = None)"
   ]
  },
  {
   "cell_type": "code",
   "execution_count": 4,
   "metadata": {
    "collapsed": true
   },
   "outputs": [],
   "source": [
    "dataset =set(raw.iloc[:,1].tolist()+raw.iloc[:,0].tolist())"
   ]
  },
  {
   "cell_type": "code",
   "execution_count": 5,
   "metadata": {
    "collapsed": true
   },
   "outputs": [],
   "source": [
    "dateset =set(dates.iloc[:,0])"
   ]
  },
  {
   "cell_type": "code",
   "execution_count": 6,
   "metadata": {
    "collapsed": true
   },
   "outputs": [],
   "source": [
    "uniq = list(dataset & dateset)"
   ]
  },
  {
   "cell_type": "code",
   "execution_count": 7,
   "metadata": {
    "collapsed": true
   },
   "outputs": [],
   "source": [
    "isuniq = raw.isin(uniq)"
   ]
  },
  {
   "cell_type": "code",
   "execution_count": 8,
   "metadata": {
    "collapsed": true
   },
   "outputs": [],
   "source": [
    "data = raw[isuniq.iloc[:,1] & isuniq.iloc[:,0]]\n",
    "data.columns =['id1', 'id2']"
   ]
  },
  {
   "cell_type": "code",
   "execution_count": 9,
   "metadata": {},
   "outputs": [
    {
     "data": {
      "text/plain": [
       "(347268, 2)"
      ]
     },
     "execution_count": 9,
     "metadata": {},
     "output_type": "execute_result"
    }
   ],
   "source": [
    "data.shape"
   ]
  },
  {
   "cell_type": "code",
   "execution_count": 10,
   "metadata": {
    "scrolled": false
   },
   "outputs": [
    {
     "data": {
      "text/plain": [
       "(421578, 2)"
      ]
     },
     "execution_count": 10,
     "metadata": {},
     "output_type": "execute_result"
    }
   ],
   "source": [
    "raw.shape"
   ]
  },
  {
   "cell_type": "code",
   "execution_count": 11,
   "metadata": {
    "collapsed": true,
    "scrolled": true
   },
   "outputs": [],
   "source": [
    "data = data.merge(dates, left_on=\"id1\", right_on = \"id\")"
   ]
  },
  {
   "cell_type": "code",
   "execution_count": 12,
   "metadata": {
    "collapsed": true
   },
   "outputs": [],
   "source": [
    "data = data.merge(dates, left_on=\"id2\", right_on=\"id\")"
   ]
  },
  {
   "cell_type": "code",
   "execution_count": 13,
   "metadata": {
    "collapsed": true
   },
   "outputs": [],
   "source": [
    "del data['id_x']\n",
    "del data['id_y']"
   ]
  },
  {
   "cell_type": "code",
   "execution_count": 14,
   "metadata": {
    "collapsed": true
   },
   "outputs": [],
   "source": [
    "data['date_x'] = pd.to_datetime(data['date_x'])\n",
    "data['date_y'] = pd.to_datetime(data['date_y'])\n",
    "\n",
    "data  = data.iloc[data['date_x'].argsort(),:]"
   ]
  },
  {
   "cell_type": "code",
   "execution_count": 15,
   "metadata": {
    "collapsed": true
   },
   "outputs": [],
   "source": [
    "data = data[data.date_x>data.date_y]"
   ]
  },
  {
   "cell_type": "code",
   "execution_count": 16,
   "metadata": {
    "collapsed": true
   },
   "outputs": [],
   "source": [
    "data = data.reset_index()\n",
    "del data['index']"
   ]
  },
  {
   "cell_type": "code",
   "execution_count": 17,
   "metadata": {},
   "outputs": [
    {
     "data": {
      "text/plain": [
       "(347078, 4)"
      ]
     },
     "execution_count": 17,
     "metadata": {},
     "output_type": "execute_result"
    }
   ],
   "source": [
    "data.shape"
   ]
  },
  {
   "cell_type": "markdown",
   "metadata": {},
   "source": [
    "# Sample Creation"
   ]
  },
  {
   "cell_type": "markdown",
   "metadata": {},
   "source": [
    "trainingsize= 10000\n",
    "for i in range(data.shape[0]):\n",
    "    if len(set(data['id1'].loc[0:i]))==trainingsize:\n",
    "        print(i)\n",
    "        train_end = i\n",
    "        break\n",
    "        \n",
    "validationsize = 100\n",
    "for i in range(data.shape[0]):\n",
    "    if len(set(data['id1'].loc[train_end:i]))==validationsize:\n",
    "        print(i)\n",
    "        val_end = i\n",
    "        break\n",
    "\n",
    "\n",
    "testsize = 100\n",
    "for i in range(data.shape[0]):\n",
    "    if len(set(data['id1'].loc[val_end:i]))==validationsize:\n",
    "        print(i)\n",
    "        test_end = i\n",
    "        break\n",
    "        \n",
    "        \n",
    "#manual check, change  train end to 75052(-3)\n",
    "#manual check, change val end to 76192(+48)\n",
    "# change test end to  77395(+50)"
   ]
  },
  {
   "cell_type": "code",
   "execution_count": 18,
   "metadata": {
    "collapsed": true,
    "scrolled": true
   },
   "outputs": [],
   "source": [
    "train_end = 75246\n",
    "val_end = 76228\n",
    "test_end = 77519\n",
    "\n",
    "train_end_new = 75246\n",
    "val_end_new = 76228\n",
    "test_end_new = 77519\n"
   ]
  },
  {
   "cell_type": "code",
   "execution_count": 19,
   "metadata": {
    "collapsed": true
   },
   "outputs": [],
   "source": [
    "train_end_new = 75246"
   ]
  },
  {
   "cell_type": "code",
   "execution_count": 20,
   "metadata": {
    "collapsed": true
   },
   "outputs": [],
   "source": [
    "def f7(seq):\n",
    "    seen = set()\n",
    "    seen_add = seen.add\n",
    "    return [x for x in seq if not (x in seen or seen_add(x))]"
   ]
  },
  {
   "cell_type": "code",
   "execution_count": 21,
   "metadata": {
    "collapsed": true
   },
   "outputs": [],
   "source": [
    "train = data.loc[0:train_end_new]"
   ]
  },
  {
   "cell_type": "code",
   "execution_count": 22,
   "metadata": {
    "collapsed": true
   },
   "outputs": [],
   "source": [
    "node_dict = {}\n",
    "node = 1\n",
    "for id1 in f7(train.id1):\n",
    "    for id2 in train[train.id1 ==id1].id2:\n",
    "        if id2 in node_dict:\n",
    "            continue\n",
    "        else:\n",
    "            node_dict[id2] = node\n",
    "            node +=1\n",
    "    if id1 in node_dict:\n",
    "        continue\n",
    "    else:\n",
    "        node_dict[id1] = node\n",
    "        node +=1\n",
    "            "
   ]
  },
  {
   "cell_type": "code",
   "execution_count": 23,
   "metadata": {
    "collapsed": true
   },
   "outputs": [],
   "source": [
    "inv_map = {v: k for k, v in node_dict.items()}"
   ]
  },
  {
   "cell_type": "code",
   "execution_count": 24,
   "metadata": {
    "collapsed": true
   },
   "outputs": [],
   "source": [
    "d = pd.Series(node_dict, name = \"node\")\n",
    "d.index.name = \"id\"\n",
    "d = d.reset_index()"
   ]
  },
  {
   "cell_type": "code",
   "execution_count": 25,
   "metadata": {
    "collapsed": true
   },
   "outputs": [],
   "source": [
    "train =train.merge(d, left_on ='id1', right_on = 'id')\n",
    "train =train.merge(d, left_on ='id2', right_on = 'id')\n",
    "del train['id_x']\n",
    "del train['id_y']\n",
    "train = train.sort_values(['date_x'])"
   ]
  },
  {
   "cell_type": "code",
   "execution_count": 26,
   "metadata": {},
   "outputs": [
    {
     "data": {
      "text/html": [
       "<div>\n",
       "<style>\n",
       "    .dataframe thead tr:only-child th {\n",
       "        text-align: right;\n",
       "    }\n",
       "\n",
       "    .dataframe thead th {\n",
       "        text-align: left;\n",
       "    }\n",
       "\n",
       "    .dataframe tbody tr th {\n",
       "        vertical-align: top;\n",
       "    }\n",
       "</style>\n",
       "<table border=\"1\" class=\"dataframe\">\n",
       "  <thead>\n",
       "    <tr style=\"text-align: right;\">\n",
       "      <th></th>\n",
       "      <th>id1</th>\n",
       "      <th>id2</th>\n",
       "      <th>date_x</th>\n",
       "      <th>date_y</th>\n",
       "      <th>node_x</th>\n",
       "      <th>node_y</th>\n",
       "    </tr>\n",
       "  </thead>\n",
       "  <tbody>\n",
       "    <tr>\n",
       "      <th>74648</th>\n",
       "      <td>9706488</td>\n",
       "      <td>9701230</td>\n",
       "      <td>1997-06-24</td>\n",
       "      <td>1997-01-06</td>\n",
       "      <td>11676</td>\n",
       "      <td>10144</td>\n",
       "    </tr>\n",
       "    <tr>\n",
       "      <th>16835</th>\n",
       "      <td>9706484</td>\n",
       "      <td>9307291</td>\n",
       "      <td>1997-06-24</td>\n",
       "      <td>1993-07-18</td>\n",
       "      <td>11678</td>\n",
       "      <td>695</td>\n",
       "    </tr>\n",
       "    <tr>\n",
       "      <th>47453</th>\n",
       "      <td>9706496</td>\n",
       "      <td>9503484</td>\n",
       "      <td>1997-06-24</td>\n",
       "      <td>1995-03-31</td>\n",
       "      <td>11680</td>\n",
       "      <td>4548</td>\n",
       "    </tr>\n",
       "    <tr>\n",
       "      <th>57468</th>\n",
       "      <td>9706486</td>\n",
       "      <td>9511411</td>\n",
       "      <td>1997-06-24</td>\n",
       "      <td>1995-11-24</td>\n",
       "      <td>11666</td>\n",
       "      <td>6495</td>\n",
       "    </tr>\n",
       "    <tr>\n",
       "      <th>75246</th>\n",
       "      <td>9706487</td>\n",
       "      <td>9702314</td>\n",
       "      <td>1997-06-24</td>\n",
       "      <td>1997-02-12</td>\n",
       "      <td>11679</td>\n",
       "      <td>10453</td>\n",
       "    </tr>\n",
       "  </tbody>\n",
       "</table>\n",
       "</div>"
      ],
      "text/plain": [
       "           id1      id2     date_x     date_y  node_x  node_y\n",
       "74648  9706488  9701230 1997-06-24 1997-01-06   11676   10144\n",
       "16835  9706484  9307291 1997-06-24 1993-07-18   11678     695\n",
       "47453  9706496  9503484 1997-06-24 1995-03-31   11680    4548\n",
       "57468  9706486  9511411 1997-06-24 1995-11-24   11666    6495\n",
       "75246  9706487  9702314 1997-06-24 1997-02-12   11679   10453"
      ]
     },
     "execution_count": 26,
     "metadata": {},
     "output_type": "execute_result"
    }
   ],
   "source": [
    "train.tail()"
   ]
  },
  {
   "cell_type": "markdown",
   "metadata": {
    "collapsed": true
   },
   "source": [
    "train.to_csv('training.csv',index  = False)"
   ]
  },
  {
   "cell_type": "code",
   "execution_count": null,
   "metadata": {
    "collapsed": true
   },
   "outputs": [],
   "source": [
    "for i in   [2351, 4459,  7051,  8251,  9215,  9238,  9485,  9890,  9965, 11089]:\n",
    "    article = inv_map[i]\n",
    "    print(i)\n",
    "    print(len(train[train.id1 == article])+len(train[train.id2 == article]))\n",
    "    print(len(data[data.id1 == article])+len(data[data.id2 == article]))\n"
   ]
  },
  {
   "cell_type": "code",
   "execution_count": 115,
   "metadata": {},
   "outputs": [],
   "source": [
    "val_end_new = 75246+1269\n",
    "val = data.loc[0:val_end_new]\n"
   ]
  },
  {
   "cell_type": "markdown",
   "metadata": {},
   "source": [
    "Find id2 values which were not present in training set"
   ]
  },
  {
   "cell_type": "code",
   "execution_count": 116,
   "metadata": {
    "collapsed": true
   },
   "outputs": [],
   "source": [
    "unwanted = list(set(val.id2) - set(train.id2) )"
   ]
  },
  {
   "cell_type": "code",
   "execution_count": 117,
   "metadata": {
    "collapsed": true
   },
   "outputs": [],
   "source": [
    "val = val.loc[[True if i not in unwanted else False for i in val.id2]]"
   ]
  },
  {
   "cell_type": "code",
   "execution_count": 118,
   "metadata": {
    "collapsed": true
   },
   "outputs": [],
   "source": [
    "node_dict = {}\n",
    "node = 1\n",
    "for id1 in f7(val.id1):\n",
    "    for id2 in val[val.id1 ==id1].id2:\n",
    "        if id2 in node_dict:\n",
    "            continue\n",
    "        else:\n",
    "            node_dict[id2] = node\n",
    "            node +=1\n",
    "    if id1 in node_dict:\n",
    "        continue\n",
    "    else:\n",
    "        node_dict[id1] = node\n",
    "        node +=1\n",
    "            "
   ]
  },
  {
   "cell_type": "code",
   "execution_count": 119,
   "metadata": {
    "collapsed": true
   },
   "outputs": [],
   "source": [
    "inv_map = {v: k for k, v in node_dict.items()}"
   ]
  },
  {
   "cell_type": "code",
   "execution_count": 120,
   "metadata": {
    "collapsed": true
   },
   "outputs": [],
   "source": [
    "d = pd.Series(node_dict, name = \"node\")\n",
    "d.index.name = \"id\"\n",
    "d = d.reset_index()"
   ]
  },
  {
   "cell_type": "code",
   "execution_count": 121,
   "metadata": {
    "collapsed": true
   },
   "outputs": [],
   "source": [
    "val =val.merge(d, left_on ='id1', right_on = 'id')\n",
    "val =val.merge(d, left_on ='id2', right_on = 'id')\n",
    "del val['id_x']\n",
    "del val['id_y']\n",
    "val = val.sort_values(['date_x'])"
   ]
  },
  {
   "cell_type": "code",
   "execution_count": 122,
   "metadata": {},
   "outputs": [
    {
     "data": {
      "text/plain": [
       "99"
      ]
     },
     "execution_count": 122,
     "metadata": {},
     "output_type": "execute_result"
    }
   ],
   "source": [
    "len(set(val.id1)-set(train.id1))"
   ]
  },
  {
   "cell_type": "code",
   "execution_count": 123,
   "metadata": {
    "collapsed": true
   },
   "outputs": [],
   "source": [
    "val.to_csv('validation.csv',index  = False)"
   ]
  },
  {
   "cell_type": "code",
   "execution_count": null,
   "metadata": {
    "collapsed": true
   },
   "outputs": [],
   "source": []
  }
 ],
 "metadata": {
  "anaconda-cloud": {},
  "kernelspec": {
   "display_name": "Python 3",
   "language": "python",
   "name": "python3"
  },
  "language_info": {
   "codemirror_mode": {
    "name": "ipython",
    "version": 3
   },
   "file_extension": ".py",
   "mimetype": "text/x-python",
   "name": "python",
   "nbconvert_exporter": "python",
   "pygments_lexer": "ipython3",
   "version": "3.6.3"
  }
 },
 "nbformat": 4,
 "nbformat_minor": 1
}
