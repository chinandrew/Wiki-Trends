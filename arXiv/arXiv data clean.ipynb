{
 "cells": [
  {
   "cell_type": "markdown",
   "metadata": {},
   "source": [
    "# Removing Dateless items"
   ]
  },
  {
   "cell_type": "code",
   "execution_count": 79,
   "metadata": {
    "collapsed": true
   },
   "outputs": [],
   "source": [
    "import pandas as pd\n",
    "import datetime\n",
    "import itertools\n"
   ]
  },
  {
   "cell_type": "code",
   "execution_count": 2,
   "metadata": {
    "collapsed": false
   },
   "outputs": [],
   "source": [
    "dates =pd.read_table(\"dates.txt\", header = None)\n",
    "dates.columns =['id1', 'date']"
   ]
  },
  {
   "cell_type": "code",
   "execution_count": 3,
   "metadata": {
    "collapsed": false
   },
   "outputs": [],
   "source": [
    "raw = pd.read_table(\"data.txt\", header = None)"
   ]
  },
  {
   "cell_type": "code",
   "execution_count": 4,
   "metadata": {
    "collapsed": false
   },
   "outputs": [],
   "source": [
    "dataset =set(raw.iloc[:,1].tolist()+raw.iloc[:,0].tolist())"
   ]
  },
  {
   "cell_type": "code",
   "execution_count": 5,
   "metadata": {
    "collapsed": false
   },
   "outputs": [],
   "source": [
    "dateset =set(dates.iloc[:,0])"
   ]
  },
  {
   "cell_type": "code",
   "execution_count": 6,
   "metadata": {
    "collapsed": false
   },
   "outputs": [],
   "source": [
    "uniq = list(dataset & dateset)"
   ]
  },
  {
   "cell_type": "code",
   "execution_count": 7,
   "metadata": {
    "collapsed": false
   },
   "outputs": [],
   "source": [
    "isuniq = raw.isin(uniq)"
   ]
  },
  {
   "cell_type": "code",
   "execution_count": 8,
   "metadata": {
    "collapsed": false
   },
   "outputs": [],
   "source": [
    "data = raw[isuniq.iloc[:,1] & isuniq.iloc[:,0]]\n",
    "data.columns =['id1', 'id2']"
   ]
  },
  {
   "cell_type": "code",
   "execution_count": 9,
   "metadata": {
    "collapsed": false
   },
   "outputs": [
    {
     "data": {
      "text/plain": [
       "(347268, 2)"
      ]
     },
     "execution_count": 9,
     "metadata": {},
     "output_type": "execute_result"
    }
   ],
   "source": [
    "data.shape"
   ]
  },
  {
   "cell_type": "code",
   "execution_count": 10,
   "metadata": {
    "collapsed": false,
    "scrolled": false
   },
   "outputs": [
    {
     "data": {
      "text/plain": [
       "(421578, 2)"
      ]
     },
     "execution_count": 10,
     "metadata": {},
     "output_type": "execute_result"
    }
   ],
   "source": [
    "raw.shape"
   ]
  },
  {
   "cell_type": "code",
   "execution_count": 11,
   "metadata": {
    "collapsed": false,
    "scrolled": true
   },
   "outputs": [],
   "source": [
    "data = data.merge(dates, on=\"id1\")"
   ]
  },
  {
   "cell_type": "code",
   "execution_count": 12,
   "metadata": {
    "collapsed": true
   },
   "outputs": [],
   "source": [
    "data['date'] = pd.to_datetime(data['date'])\n",
    "data  = data.iloc[data['date'].argsort(),:]"
   ]
  },
  {
   "cell_type": "code",
   "execution_count": 18,
   "metadata": {
    "collapsed": false
   },
   "outputs": [],
   "source": [
    "data = data.reset_index()\n",
    "del data['index']"
   ]
  },
  {
   "cell_type": "code",
   "execution_count": 22,
   "metadata": {
    "collapsed": false
   },
   "outputs": [
    {
     "data": {
      "text/html": [
       "<div>\n",
       "<table border=\"1\" class=\"dataframe\">\n",
       "  <thead>\n",
       "    <tr style=\"text-align: right;\">\n",
       "      <th></th>\n",
       "      <th>id1</th>\n",
       "      <th>id2</th>\n",
       "      <th>date</th>\n",
       "    </tr>\n",
       "  </thead>\n",
       "  <tbody>\n",
       "    <tr>\n",
       "      <th>0</th>\n",
       "      <td>9203210</td>\n",
       "      <td>9801208</td>\n",
       "      <td>1992-03-15</td>\n",
       "    </tr>\n",
       "    <tr>\n",
       "      <th>1</th>\n",
       "      <td>9203210</td>\n",
       "      <td>9801209</td>\n",
       "      <td>1992-03-15</td>\n",
       "    </tr>\n",
       "    <tr>\n",
       "      <th>2</th>\n",
       "      <td>9203222</td>\n",
       "      <td>9908362</td>\n",
       "      <td>1992-03-27</td>\n",
       "    </tr>\n",
       "    <tr>\n",
       "      <th>3</th>\n",
       "      <td>9204229</td>\n",
       "      <td>9908362</td>\n",
       "      <td>1992-04-22</td>\n",
       "    </tr>\n",
       "    <tr>\n",
       "      <th>4</th>\n",
       "      <td>9205220</td>\n",
       "      <td>9506358</td>\n",
       "      <td>1992-05-13</td>\n",
       "    </tr>\n",
       "  </tbody>\n",
       "</table>\n",
       "</div>"
      ],
      "text/plain": [
       "       id1      id2       date\n",
       "0  9203210  9801208 1992-03-15\n",
       "1  9203210  9801209 1992-03-15\n",
       "2  9203222  9908362 1992-03-27\n",
       "3  9204229  9908362 1992-04-22\n",
       "4  9205220  9506358 1992-05-13"
      ]
     },
     "execution_count": 22,
     "metadata": {},
     "output_type": "execute_result"
    }
   ],
   "source": [
    "data.head()"
   ]
  },
  {
   "cell_type": "markdown",
   "metadata": {},
   "source": [
    "# Sample Creation"
   ]
  },
  {
   "cell_type": "code",
   "execution_count": 23,
   "metadata": {
    "collapsed": false
   },
   "outputs": [
    {
     "name": "stdout",
     "output_type": "stream",
     "text": [
      "2745\n",
      "2910\n"
     ]
    }
   ],
   "source": [
    "trainingsize= 1001\n",
    "for i in xrange(data.shape[0]):\n",
    "    if len(set(data['id1'][0:i]))==trainingsize:\n",
    "        print i-1\n",
    "        break\n",
    "        \n",
    "validationsize = 50\n",
    "for i in xrange(data.shape[0]):\n",
    "    if len(set(data['id1'][2745:i]))==validationsize:\n",
    "        print i-1\n",
    "        break\n",
    "\n"
   ]
  },
  {
   "cell_type": "code",
   "execution_count": 275,
   "metadata": {
    "collapsed": false,
    "scrolled": true
   },
   "outputs": [],
   "source": [
    "sample = data.iloc[0:2745]\n"
   ]
  },
  {
   "cell_type": "code",
   "execution_count": 276,
   "metadata": {
    "collapsed": true
   },
   "outputs": [],
   "source": [
    "sampleset =set(sample['id1'].tolist()+sample['id2'].tolist())\n",
    "dictionary =dict(zip(sampleset,range(1,len(sampleset)+1)))\n",
    "d =pd.DataFrame(dictionary.items())\n",
    "d.columns = ['id','node']\n",
    "sample=sample.merge(d, left_on ='id1', right_on = 'id')\n",
    "sample=sample.merge(d, left_on ='id2', right_on = 'id')\n",
    "del sample['id_x']\n",
    "del sample['id_y']"
   ]
  },
  {
   "cell_type": "code",
   "execution_count": 277,
   "metadata": {
    "collapsed": false,
    "scrolled": true
   },
   "outputs": [
    {
     "data": {
      "text/html": [
       "<div>\n",
       "<table border=\"1\" class=\"dataframe\">\n",
       "  <thead>\n",
       "    <tr style=\"text-align: right;\">\n",
       "      <th></th>\n",
       "      <th>id1</th>\n",
       "      <th>id2</th>\n",
       "      <th>date</th>\n",
       "      <th>node_x</th>\n",
       "      <th>node_y</th>\n",
       "    </tr>\n",
       "  </thead>\n",
       "  <tbody>\n",
       "    <tr>\n",
       "      <th>0</th>\n",
       "      <td>9203210</td>\n",
       "      <td>9801208</td>\n",
       "      <td>1992-03-15</td>\n",
       "      <td>638</td>\n",
       "      <td>631</td>\n",
       "    </tr>\n",
       "    <tr>\n",
       "      <th>1</th>\n",
       "      <td>9303219</td>\n",
       "      <td>9801208</td>\n",
       "      <td>1993-03-04</td>\n",
       "      <td>1073</td>\n",
       "      <td>631</td>\n",
       "    </tr>\n",
       "    <tr>\n",
       "      <th>2</th>\n",
       "      <td>9310203</td>\n",
       "      <td>9801208</td>\n",
       "      <td>1993-10-01</td>\n",
       "      <td>654</td>\n",
       "      <td>631</td>\n",
       "    </tr>\n",
       "    <tr>\n",
       "      <th>3</th>\n",
       "      <td>9203210</td>\n",
       "      <td>9801209</td>\n",
       "      <td>1992-03-15</td>\n",
       "      <td>638</td>\n",
       "      <td>632</td>\n",
       "    </tr>\n",
       "    <tr>\n",
       "      <th>4</th>\n",
       "      <td>9303219</td>\n",
       "      <td>9801209</td>\n",
       "      <td>1993-03-04</td>\n",
       "      <td>1073</td>\n",
       "      <td>632</td>\n",
       "    </tr>\n",
       "  </tbody>\n",
       "</table>\n",
       "</div>"
      ],
      "text/plain": [
       "       id1      id2       date  node_x  node_y\n",
       "0  9203210  9801208 1992-03-15     638     631\n",
       "1  9303219  9801208 1993-03-04    1073     631\n",
       "2  9310203  9801208 1993-10-01     654     631\n",
       "3  9203210  9801209 1992-03-15     638     632\n",
       "4  9303219  9801209 1993-03-04    1073     632"
      ]
     },
     "execution_count": 277,
     "metadata": {},
     "output_type": "execute_result"
    }
   ],
   "source": [
    "sample.head()"
   ]
  },
  {
   "cell_type": "code",
   "execution_count": 278,
   "metadata": {
    "collapsed": false
   },
   "outputs": [
    {
     "data": {
      "text/plain": [
       "(1461, 2)"
      ]
     },
     "execution_count": 278,
     "metadata": {},
     "output_type": "execute_result"
    }
   ],
   "source": [
    "d.shape"
   ]
  },
  {
   "cell_type": "code",
   "execution_count": 269,
   "metadata": {
    "collapsed": true
   },
   "outputs": [],
   "source": [
    "validation = data.iloc[2745:2910,:]"
   ]
  },
  {
   "cell_type": "code",
   "execution_count": 270,
   "metadata": {
    "collapsed": true
   },
   "outputs": [],
   "source": [
    "validset =set(validation['id1'].tolist()+validation['id2'].tolist())\n",
    "new = validset-sampleset\n",
    "dictionary2 =dict(zip(new,range(len(sampleset)+1,len(sampleset)+1+len(new))))"
   ]
  },
  {
   "cell_type": "code",
   "execution_count": 271,
   "metadata": {
    "collapsed": false
   },
   "outputs": [],
   "source": [
    "dictionary.update(dictionary2)\n",
    "d2 =pd.DataFrame(dictionary.items())\n",
    "d2.columns = ['id','node']\n",
    "validation=validation.merge(d2, left_on ='id1', right_on = 'id')\n",
    "validation=validation.merge(d2, left_on ='id2', right_on = 'id')\n",
    "del validation['id_x']\n",
    "del validation['id_y']"
   ]
  },
  {
   "cell_type": "code",
   "execution_count": 280,
   "metadata": {
    "collapsed": false
   },
   "outputs": [
    {
     "data": {
      "text/plain": [
       "(1524, 2)"
      ]
     },
     "execution_count": 280,
     "metadata": {},
     "output_type": "execute_result"
    }
   ],
   "source": [
    "d2.shape"
   ]
  },
  {
   "cell_type": "code",
   "execution_count": 272,
   "metadata": {
    "collapsed": false,
    "scrolled": true
   },
   "outputs": [
    {
     "data": {
      "text/html": [
       "<div>\n",
       "<table border=\"1\" class=\"dataframe\">\n",
       "  <thead>\n",
       "    <tr style=\"text-align: right;\">\n",
       "      <th></th>\n",
       "      <th>id1</th>\n",
       "      <th>id2</th>\n",
       "      <th>date</th>\n",
       "      <th>node_x</th>\n",
       "      <th>node_y</th>\n",
       "    </tr>\n",
       "  </thead>\n",
       "  <tbody>\n",
       "    <tr>\n",
       "      <th>0</th>\n",
       "      <td>9312285</td>\n",
       "      <td>9204214</td>\n",
       "      <td>1993-12-15</td>\n",
       "      <td>1464</td>\n",
       "      <td>916</td>\n",
       "    </tr>\n",
       "    <tr>\n",
       "      <th>1</th>\n",
       "      <td>9312287</td>\n",
       "      <td>9207213</td>\n",
       "      <td>1993-12-15</td>\n",
       "      <td>1465</td>\n",
       "      <td>1420</td>\n",
       "    </tr>\n",
       "    <tr>\n",
       "      <th>2</th>\n",
       "      <td>9312287</td>\n",
       "      <td>9207209</td>\n",
       "      <td>1993-12-15</td>\n",
       "      <td>1465</td>\n",
       "      <td>1417</td>\n",
       "    </tr>\n",
       "    <tr>\n",
       "      <th>3</th>\n",
       "      <td>9312331</td>\n",
       "      <td>9207209</td>\n",
       "      <td>1993-12-23</td>\n",
       "      <td>1497</td>\n",
       "      <td>1417</td>\n",
       "    </tr>\n",
       "    <tr>\n",
       "      <th>4</th>\n",
       "      <td>9312287</td>\n",
       "      <td>9302316</td>\n",
       "      <td>1993-12-15</td>\n",
       "      <td>1465</td>\n",
       "      <td>842</td>\n",
       "    </tr>\n",
       "  </tbody>\n",
       "</table>\n",
       "</div>"
      ],
      "text/plain": [
       "       id1      id2       date  node_x  node_y\n",
       "0  9312285  9204214 1993-12-15    1464     916\n",
       "1  9312287  9207213 1993-12-15    1465    1420\n",
       "2  9312287  9207209 1993-12-15    1465    1417\n",
       "3  9312331  9207209 1993-12-23    1497    1417\n",
       "4  9312287  9302316 1993-12-15    1465     842"
      ]
     },
     "execution_count": 272,
     "metadata": {},
     "output_type": "execute_result"
    }
   ],
   "source": [
    "validation.head()"
   ]
  },
  {
   "cell_type": "code",
   "execution_count": 273,
   "metadata": {
    "collapsed": true
   },
   "outputs": [],
   "source": [
    "sample.to_csv('training.csv',index  = False)\n",
    "validation.to_csv('validation.csv',index  = False)"
   ]
  },
  {
   "cell_type": "code",
   "execution_count": null,
   "metadata": {
    "collapsed": true
   },
   "outputs": [],
   "source": []
  }
 ],
 "metadata": {
  "anaconda-cloud": {},
  "kernelspec": {
   "display_name": "Python [default]",
   "language": "python",
   "name": "python2"
  },
  "language_info": {
   "codemirror_mode": {
    "name": "ipython",
    "version": 2
   },
   "file_extension": ".py",
   "mimetype": "text/x-python",
   "name": "python",
   "nbconvert_exporter": "python",
   "pygments_lexer": "ipython2",
   "version": "2.7.12"
  }
 },
 "nbformat": 4,
 "nbformat_minor": 1
}
