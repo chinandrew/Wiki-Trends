{
 "cells": [
  {
   "cell_type": "markdown",
   "metadata": {},
   "source": [
    "# Removing Dateless items"
   ]
  },
  {
   "cell_type": "code",
   "execution_count": 1,
   "metadata": {
    "collapsed": true
   },
   "outputs": [],
   "source": [
    "import pandas as pd\n",
    "import datetime\n",
    "import itertools"
   ]
  },
  {
   "cell_type": "code",
   "execution_count": 2,
   "metadata": {
    "collapsed": true
   },
   "outputs": [],
   "source": [
    "dates =pd.read_table(\"cit-HepPh-dates.txt\", header = None)\n",
    "dates.columns =['id', 'date']"
   ]
  },
  {
   "cell_type": "code",
   "execution_count": 3,
   "metadata": {
    "collapsed": true
   },
   "outputs": [],
   "source": [
    "raw = pd.read_table(\"Cit-HepPh.txt\", header = None)"
   ]
  },
  {
   "cell_type": "code",
   "execution_count": 4,
   "metadata": {
    "collapsed": true
   },
   "outputs": [],
   "source": [
    "dataset =set(raw.iloc[:,1].tolist()+raw.iloc[:,0].tolist())"
   ]
  },
  {
   "cell_type": "code",
   "execution_count": 5,
   "metadata": {
    "collapsed": true
   },
   "outputs": [],
   "source": [
    "dateset =set(dates.iloc[:,0])"
   ]
  },
  {
   "cell_type": "code",
   "execution_count": 6,
   "metadata": {
    "collapsed": true
   },
   "outputs": [],
   "source": [
    "uniq = list(dataset & dateset)"
   ]
  },
  {
   "cell_type": "code",
   "execution_count": 7,
   "metadata": {
    "collapsed": true
   },
   "outputs": [],
   "source": [
    "isuniq = raw.isin(uniq)"
   ]
  },
  {
   "cell_type": "code",
   "execution_count": 8,
   "metadata": {
    "collapsed": true
   },
   "outputs": [],
   "source": [
    "data = raw[isuniq.iloc[:,1] & isuniq.iloc[:,0]]\n",
    "data.columns =['id1', 'id2']"
   ]
  },
  {
   "cell_type": "code",
   "execution_count": 9,
   "metadata": {},
   "outputs": [
    {
     "data": {
      "text/plain": [
       "(347268, 2)"
      ]
     },
     "execution_count": 9,
     "metadata": {},
     "output_type": "execute_result"
    }
   ],
   "source": [
    "data.shape"
   ]
  },
  {
   "cell_type": "code",
   "execution_count": 10,
   "metadata": {
    "scrolled": false
   },
   "outputs": [
    {
     "data": {
      "text/plain": [
       "(421578, 2)"
      ]
     },
     "execution_count": 10,
     "metadata": {},
     "output_type": "execute_result"
    }
   ],
   "source": [
    "raw.shape"
   ]
  },
  {
   "cell_type": "code",
   "execution_count": 11,
   "metadata": {
    "collapsed": true,
    "scrolled": true
   },
   "outputs": [],
   "source": [
    "data = data.merge(dates, left_on=\"id1\", right_on = \"id\")"
   ]
  },
  {
   "cell_type": "code",
   "execution_count": 12,
   "metadata": {
    "collapsed": true
   },
   "outputs": [],
   "source": [
    "data = data.merge(dates, left_on=\"id2\", right_on=\"id\")"
   ]
  },
  {
   "cell_type": "code",
   "execution_count": 13,
   "metadata": {
    "collapsed": true
   },
   "outputs": [],
   "source": [
    "del data['id_x']\n",
    "del data['id_y']"
   ]
  },
  {
   "cell_type": "code",
   "execution_count": 14,
   "metadata": {
    "collapsed": true
   },
   "outputs": [],
   "source": [
    "data['date_x'] = pd.to_datetime(data['date_x'])\n",
    "data['date_y'] = pd.to_datetime(data['date_y'])\n",
    "\n",
    "data  = data.iloc[data['date_x'].argsort(),:]"
   ]
  },
  {
   "cell_type": "code",
   "execution_count": 15,
   "metadata": {
    "collapsed": true
   },
   "outputs": [],
   "source": [
    "data = data[data.date_x>data.date_y]"
   ]
  },
  {
   "cell_type": "code",
   "execution_count": 16,
   "metadata": {
    "collapsed": true
   },
   "outputs": [],
   "source": [
    "data = data.reset_index()\n",
    "del data['index']"
   ]
  },
  {
   "cell_type": "code",
   "execution_count": 34,
   "metadata": {},
   "outputs": [
    {
     "data": {
      "text/plain": [
       "(347078, 4)"
      ]
     },
     "execution_count": 34,
     "metadata": {},
     "output_type": "execute_result"
    }
   ],
   "source": [
    "data.shape"
   ]
  },
  {
   "cell_type": "markdown",
   "metadata": {},
   "source": [
    "# Sample Creation"
   ]
  },
  {
   "cell_type": "code",
   "execution_count": 17,
   "metadata": {},
   "outputs": [
    {
     "name": "stdout",
     "output_type": "stream",
     "text": [
      "75072\n",
      "76079\n",
      "77310\n"
     ]
    }
   ],
   "source": [
    "trainingsize= 10000\n",
    "for i in range(data.shape[0]):\n",
    "    if len(set(data['id1'].loc[0:i]))==trainingsize:\n",
    "        print(i)\n",
    "        train_end = i\n",
    "        break\n",
    "        \n",
    "validationsize = 100\n",
    "for i in range(data.shape[0]):\n",
    "    if len(set(data['id1'].loc[train_end:i]))==validationsize:\n",
    "        print(i)\n",
    "        val_end = i\n",
    "        break\n",
    "\n",
    "\n",
    "testsize = 100\n",
    "for i in range(data.shape[0]):\n",
    "    if len(set(data['id1'].loc[val_end:i]))==validationsize:\n",
    "        print(i)\n",
    "        test_end = i\n",
    "        break\n",
    "        \n",
    "        \n",
    "#manual check, change  train end to 75052(-3)\n",
    "#manual check, change val end to 76192(+48)\n",
    "# change test end to  77395(+50)"
   ]
  },
  {
   "cell_type": "code",
   "execution_count": 38,
   "metadata": {
    "collapsed": true,
    "scrolled": true
   },
   "outputs": [],
   "source": [
    "train_end = 75246\n",
    "val_end = 76228\n",
    "test_end = 77519\n",
    "\n",
    "train_end_new = 75246\n",
    "val_end_new = 76228\n",
    "test_end_new = 77519\n"
   ]
  },
  {
   "cell_type": "code",
   "execution_count": 39,
   "metadata": {
    "collapsed": true
   },
   "outputs": [],
   "source": [
    "def f7(seq):\n",
    "    seen = set()\n",
    "    seen_add = seen.add\n",
    "    return [x for x in seq if not (x in seen or seen_add(x))]"
   ]
  },
  {
   "cell_type": "code",
   "execution_count": 40,
   "metadata": {
    "collapsed": true
   },
   "outputs": [],
   "source": [
    "train = data.loc[0:train_end_new]"
   ]
  },
  {
   "cell_type": "code",
   "execution_count": 41,
   "metadata": {},
   "outputs": [
    {
     "data": {
      "text/plain": [
       "(75247, 4)"
      ]
     },
     "execution_count": 41,
     "metadata": {},
     "output_type": "execute_result"
    }
   ],
   "source": [
    "train.shape"
   ]
  },
  {
   "cell_type": "code",
   "execution_count": 42,
   "metadata": {},
   "outputs": [
    {
     "data": {
      "text/plain": [
       "10003"
      ]
     },
     "execution_count": 42,
     "metadata": {},
     "output_type": "execute_result"
    }
   ],
   "source": [
    "len(f7(train.id1))"
   ]
  },
  {
   "cell_type": "code",
   "execution_count": 43,
   "metadata": {},
   "outputs": [
    {
     "data": {
      "text/plain": [
       "8653"
      ]
     },
     "execution_count": 43,
     "metadata": {},
     "output_type": "execute_result"
    }
   ],
   "source": [
    "len(f7(train.id2))"
   ]
  },
  {
   "cell_type": "code",
   "execution_count": 56,
   "metadata": {},
   "outputs": [
    {
     "data": {
      "text/plain": [
       "{5: 4}"
      ]
     },
     "execution_count": 56,
     "metadata": {},
     "output_type": "execute_result"
    }
   ],
   "source": [
    "a"
   ]
  },
  {
   "cell_type": "code",
   "execution_count": 58,
   "metadata": {},
   "outputs": [
    {
     "data": {
      "text/plain": [
       "False"
      ]
     },
     "execution_count": 58,
     "metadata": {},
     "output_type": "execute_result"
    }
   ],
   "source": [
    "4 in a"
   ]
  },
  {
   "cell_type": "code",
   "execution_count": 50,
   "metadata": {},
   "outputs": [
    {
     "data": {
      "text/plain": [
       "0    9204213\n",
       "Name: id2, dtype: int64"
      ]
     },
     "execution_count": 50,
     "metadata": {},
     "output_type": "execute_result"
    }
   ],
   "source": [
    "train[train.id1 ==9205224].id2"
   ]
  },
  {
   "cell_type": "code",
   "execution_count": 60,
   "metadata": {},
   "outputs": [],
   "source": [
    "node_dict = {}\n",
    "node = 1\n",
    "for id1 in f7(train.id1):\n",
    "    for id2 in train[train.id1 ==id1].id2:\n",
    "        if id2 in node_dict:\n",
    "            continue\n",
    "        else:\n",
    "            node_dict[id2] = node\n",
    "            node +=1\n",
    "    if id1 in node_dict:\n",
    "        continue\n",
    "    else:\n",
    "        node_dict[id1] = node\n",
    "        node +=1\n",
    "            "
   ]
  },
  {
   "cell_type": "code",
   "execution_count": 77,
   "metadata": {},
   "outputs": [],
   "source": [
    "inv_map = {v: k for k, v in node_dict.items()}"
   ]
  },
  {
   "cell_type": "code",
   "execution_count": 62,
   "metadata": {
    "collapsed": true
   },
   "outputs": [],
   "source": [
    "d = pd.Series(node_dict, name = \"node\")\n",
    "d.index.name = \"id\"\n",
    "d = d.reset_index()"
   ]
  },
  {
   "cell_type": "code",
   "execution_count": 64,
   "metadata": {
    "collapsed": true
   },
   "outputs": [],
   "source": [
    "train =train.merge(d, left_on ='id1', right_on = 'id')\n",
    "train =train.merge(d, left_on ='id2', right_on = 'id')\n",
    "del train['id_x']\n",
    "del train['id_y']\n",
    "train = train.sort_values(['date_x'])"
   ]
  },
  {
   "cell_type": "code",
   "execution_count": 75,
   "metadata": {
    "collapsed": true
   },
   "outputs": [],
   "source": [
    "train.to_csv('training.csv',index  = False)"
   ]
  },
  {
   "cell_type": "code",
   "execution_count": 82,
   "metadata": {},
   "outputs": [
    {
     "data": {
      "text/html": [
       "<div>\n",
       "<style>\n",
       "    .dataframe thead tr:only-child th {\n",
       "        text-align: right;\n",
       "    }\n",
       "\n",
       "    .dataframe thead th {\n",
       "        text-align: left;\n",
       "    }\n",
       "\n",
       "    .dataframe tbody tr th {\n",
       "        vertical-align: top;\n",
       "    }\n",
       "</style>\n",
       "<table border=\"1\" class=\"dataframe\">\n",
       "  <thead>\n",
       "    <tr style=\"text-align: right;\">\n",
       "      <th></th>\n",
       "      <th>id1</th>\n",
       "      <th>id2</th>\n",
       "      <th>date_x</th>\n",
       "      <th>date_y</th>\n",
       "      <th>node_x</th>\n",
       "      <th>node_y</th>\n",
       "    </tr>\n",
       "  </thead>\n",
       "  <tbody>\n",
       "    <tr>\n",
       "      <th>69618</th>\n",
       "      <td>9610217</td>\n",
       "      <td>9411382</td>\n",
       "      <td>1996-10-02</td>\n",
       "      <td>1994-11-23</td>\n",
       "      <td>9238</td>\n",
       "      <td>3582</td>\n",
       "    </tr>\n",
       "  </tbody>\n",
       "</table>\n",
       "</div>"
      ],
      "text/plain": [
       "           id1      id2     date_x     date_y  node_x  node_y\n",
       "69618  9610217  9411382 1996-10-02 1994-11-23    9238    3582"
      ]
     },
     "execution_count": 82,
     "metadata": {},
     "output_type": "execute_result"
    }
   ],
   "source": [
    "train[train.id1 == 9610217] "
   ]
  },
  {
   "cell_type": "code",
   "execution_count": 88,
   "metadata": {},
   "outputs": [
    {
     "data": {
      "text/html": [
       "<div>\n",
       "<style>\n",
       "    .dataframe thead tr:only-child th {\n",
       "        text-align: right;\n",
       "    }\n",
       "\n",
       "    .dataframe thead th {\n",
       "        text-align: left;\n",
       "    }\n",
       "\n",
       "    .dataframe tbody tr th {\n",
       "        vertical-align: top;\n",
       "    }\n",
       "</style>\n",
       "<table border=\"1\" class=\"dataframe\">\n",
       "  <thead>\n",
       "    <tr style=\"text-align: right;\">\n",
       "      <th></th>\n",
       "      <th>id1</th>\n",
       "      <th>id2</th>\n",
       "      <th>date_x</th>\n",
       "      <th>date_y</th>\n",
       "      <th>node_x</th>\n",
       "      <th>node_y</th>\n",
       "    </tr>\n",
       "  </thead>\n",
       "  <tbody>\n",
       "    <tr>\n",
       "      <th>72393</th>\n",
       "      <td>9701327</td>\n",
       "      <td>9610217</td>\n",
       "      <td>1997-01-20</td>\n",
       "      <td>1996-10-02</td>\n",
       "      <td>10241</td>\n",
       "      <td>9238</td>\n",
       "    </tr>\n",
       "    <tr>\n",
       "      <th>72394</th>\n",
       "      <td>9706244</td>\n",
       "      <td>9610217</td>\n",
       "      <td>1997-06-04</td>\n",
       "      <td>1996-10-02</td>\n",
       "      <td>11430</td>\n",
       "      <td>9238</td>\n",
       "    </tr>\n",
       "    <tr>\n",
       "      <th>72395</th>\n",
       "      <td>9706401</td>\n",
       "      <td>9610217</td>\n",
       "      <td>1997-06-18</td>\n",
       "      <td>1996-10-02</td>\n",
       "      <td>11585</td>\n",
       "      <td>9238</td>\n",
       "    </tr>\n",
       "    <tr>\n",
       "      <th>72396</th>\n",
       "      <td>9706450</td>\n",
       "      <td>9610217</td>\n",
       "      <td>1997-06-23</td>\n",
       "      <td>1996-10-02</td>\n",
       "      <td>11633</td>\n",
       "      <td>9238</td>\n",
       "    </tr>\n",
       "  </tbody>\n",
       "</table>\n",
       "</div>"
      ],
      "text/plain": [
       "           id1      id2     date_x     date_y  node_x  node_y\n",
       "72393  9701327  9610217 1997-01-20 1996-10-02   10241    9238\n",
       "72394  9706244  9610217 1997-06-04 1996-10-02   11430    9238\n",
       "72395  9706401  9610217 1997-06-18 1996-10-02   11585    9238\n",
       "72396  9706450  9610217 1997-06-23 1996-10-02   11633    9238"
      ]
     },
     "execution_count": 88,
     "metadata": {},
     "output_type": "execute_result"
    }
   ],
   "source": [
    "train[train.id2== 9610217]"
   ]
  },
  {
   "cell_type": "code",
   "execution_count": 85,
   "metadata": {},
   "outputs": [
    {
     "data": {
      "text/html": [
       "<div>\n",
       "<style>\n",
       "    .dataframe thead tr:only-child th {\n",
       "        text-align: right;\n",
       "    }\n",
       "\n",
       "    .dataframe thead th {\n",
       "        text-align: left;\n",
       "    }\n",
       "\n",
       "    .dataframe tbody tr th {\n",
       "        vertical-align: top;\n",
       "    }\n",
       "</style>\n",
       "<table border=\"1\" class=\"dataframe\">\n",
       "  <thead>\n",
       "    <tr style=\"text-align: right;\">\n",
       "      <th></th>\n",
       "      <th>id1</th>\n",
       "      <th>id2</th>\n",
       "      <th>date_x</th>\n",
       "      <th>date_y</th>\n",
       "      <th>node_x</th>\n",
       "      <th>node_y</th>\n",
       "    </tr>\n",
       "  </thead>\n",
       "  <tbody>\n",
       "    <tr>\n",
       "      <th>74648</th>\n",
       "      <td>9706488</td>\n",
       "      <td>9701230</td>\n",
       "      <td>1997-06-24</td>\n",
       "      <td>1997-01-06</td>\n",
       "      <td>11676</td>\n",
       "      <td>10144</td>\n",
       "    </tr>\n",
       "    <tr>\n",
       "      <th>16835</th>\n",
       "      <td>9706484</td>\n",
       "      <td>9307291</td>\n",
       "      <td>1997-06-24</td>\n",
       "      <td>1993-07-18</td>\n",
       "      <td>11678</td>\n",
       "      <td>695</td>\n",
       "    </tr>\n",
       "    <tr>\n",
       "      <th>47453</th>\n",
       "      <td>9706496</td>\n",
       "      <td>9503484</td>\n",
       "      <td>1997-06-24</td>\n",
       "      <td>1995-03-31</td>\n",
       "      <td>11680</td>\n",
       "      <td>4548</td>\n",
       "    </tr>\n",
       "    <tr>\n",
       "      <th>57468</th>\n",
       "      <td>9706486</td>\n",
       "      <td>9511411</td>\n",
       "      <td>1997-06-24</td>\n",
       "      <td>1995-11-24</td>\n",
       "      <td>11666</td>\n",
       "      <td>6495</td>\n",
       "    </tr>\n",
       "    <tr>\n",
       "      <th>75246</th>\n",
       "      <td>9706487</td>\n",
       "      <td>9702314</td>\n",
       "      <td>1997-06-24</td>\n",
       "      <td>1997-02-12</td>\n",
       "      <td>11679</td>\n",
       "      <td>10453</td>\n",
       "    </tr>\n",
       "  </tbody>\n",
       "</table>\n",
       "</div>"
      ],
      "text/plain": [
       "           id1      id2     date_x     date_y  node_x  node_y\n",
       "74648  9706488  9701230 1997-06-24 1997-01-06   11676   10144\n",
       "16835  9706484  9307291 1997-06-24 1993-07-18   11678     695\n",
       "47453  9706496  9503484 1997-06-24 1995-03-31   11680    4548\n",
       "57468  9706486  9511411 1997-06-24 1995-11-24   11666    6495\n",
       "75246  9706487  9702314 1997-06-24 1997-02-12   11679   10453"
      ]
     },
     "execution_count": 85,
     "metadata": {},
     "output_type": "execute_result"
    }
   ],
   "source": [
    "train.tail()\n"
   ]
  },
  {
   "cell_type": "code",
   "execution_count": 80,
   "metadata": {},
   "outputs": [
    {
     "name": "stdout",
     "output_type": "stream",
     "text": [
      "9405416\n",
      "9503387\n",
      "9602229\n",
      "9606433\n",
      "9609525\n",
      "9610217\n",
      "9610476\n",
      "9608478\n",
      "9612342\n",
      "9704440\n"
     ]
    }
   ],
   "source": [
    "for i in   [2351, 4459,  7051,  8251,  9215,  9238,  9485,  9890,  9965, 11089]:\n",
    "    print(inv_map[i])"
   ]
  },
  {
   "cell_type": "code",
   "execution_count": null,
   "metadata": {
    "collapsed": true
   },
   "outputs": [],
   "source": []
  },
  {
   "cell_type": "code",
   "execution_count": null,
   "metadata": {
    "collapsed": true
   },
   "outputs": [],
   "source": []
  },
  {
   "cell_type": "code",
   "execution_count": 18,
   "metadata": {
    "collapsed": true
   },
   "outputs": [],
   "source": [
    "val = data.loc[train_end_new+1:val_end_new]\n",
    "\n",
    "val_set =set(val['id1'].tolist()+val['id2'].tolist())\n",
    "dictionary =dict(zip(val_set,range(1,len(val_set)+1)))\n",
    "d = pd.Series(dictionary, name = \"node\")\n",
    "d.index.name = \"id\"\n",
    "d = d.reset_index()\n",
    "\n",
    "val =val.merge(d,left_on ='id1', right_on = 'id')\n",
    "val =val.merge(d, left_on ='id2', right_on = 'id')\n",
    "del val['id_x']\n",
    "del val['id_y']\n",
    "val = val.sort_values(['date','id1'])"
   ]
  },
  {
   "cell_type": "code",
   "execution_count": 19,
   "metadata": {},
   "outputs": [
    {
     "data": {
      "text/html": [
       "<div>\n",
       "<style>\n",
       "    .dataframe thead tr:only-child th {\n",
       "        text-align: right;\n",
       "    }\n",
       "\n",
       "    .dataframe thead th {\n",
       "        text-align: left;\n",
       "    }\n",
       "\n",
       "    .dataframe tbody tr th {\n",
       "        vertical-align: top;\n",
       "    }\n",
       "</style>\n",
       "<table border=\"1\" class=\"dataframe\">\n",
       "  <thead>\n",
       "    <tr style=\"text-align: right;\">\n",
       "      <th></th>\n",
       "      <th>id1</th>\n",
       "      <th>id2</th>\n",
       "      <th>date</th>\n",
       "      <th>node_x</th>\n",
       "      <th>node_y</th>\n",
       "    </tr>\n",
       "  </thead>\n",
       "  <tbody>\n",
       "    <tr>\n",
       "      <th>0</th>\n",
       "      <td>9706438</td>\n",
       "      <td>9408384</td>\n",
       "      <td>1997-06-20</td>\n",
       "      <td>466</td>\n",
       "      <td>981</td>\n",
       "    </tr>\n",
       "    <tr>\n",
       "      <th>136</th>\n",
       "      <td>9706431</td>\n",
       "      <td>9504215</td>\n",
       "      <td>1997-06-20</td>\n",
       "      <td>458</td>\n",
       "      <td>805</td>\n",
       "    </tr>\n",
       "    <tr>\n",
       "      <th>137</th>\n",
       "      <td>9706431</td>\n",
       "      <td>9602300</td>\n",
       "      <td>1997-06-20</td>\n",
       "      <td>458</td>\n",
       "      <td>699</td>\n",
       "    </tr>\n",
       "    <tr>\n",
       "      <th>138</th>\n",
       "      <td>9706431</td>\n",
       "      <td>9603351</td>\n",
       "      <td>1997-06-20</td>\n",
       "      <td>458</td>\n",
       "      <td>148</td>\n",
       "    </tr>\n",
       "    <tr>\n",
       "      <th>139</th>\n",
       "      <td>9706431</td>\n",
       "      <td>9303236</td>\n",
       "      <td>1997-06-20</td>\n",
       "      <td>458</td>\n",
       "      <td>659</td>\n",
       "    </tr>\n",
       "  </tbody>\n",
       "</table>\n",
       "</div>"
      ],
      "text/plain": [
       "         id1      id2       date  node_x  node_y\n",
       "0    9706438  9408384 1997-06-20     466     981\n",
       "136  9706431  9504215 1997-06-20     458     805\n",
       "137  9706431  9602300 1997-06-20     458     699\n",
       "138  9706431  9603351 1997-06-20     458     148\n",
       "139  9706431  9303236 1997-06-20     458     659"
      ]
     },
     "execution_count": 19,
     "metadata": {},
     "output_type": "execute_result"
    }
   ],
   "source": [
    "val.head()"
   ]
  },
  {
   "cell_type": "code",
   "execution_count": 20,
   "metadata": {},
   "outputs": [
    {
     "data": {
      "text/html": [
       "<div>\n",
       "<style>\n",
       "    .dataframe thead tr:only-child th {\n",
       "        text-align: right;\n",
       "    }\n",
       "\n",
       "    .dataframe thead th {\n",
       "        text-align: left;\n",
       "    }\n",
       "\n",
       "    .dataframe tbody tr th {\n",
       "        vertical-align: top;\n",
       "    }\n",
       "</style>\n",
       "<table border=\"1\" class=\"dataframe\">\n",
       "  <thead>\n",
       "    <tr style=\"text-align: right;\">\n",
       "      <th></th>\n",
       "      <th>id1</th>\n",
       "      <th>id2</th>\n",
       "      <th>date</th>\n",
       "      <th>node_x</th>\n",
       "      <th>node_y</th>\n",
       "    </tr>\n",
       "  </thead>\n",
       "  <tbody>\n",
       "    <tr>\n",
       "      <th>1066</th>\n",
       "      <td>9706522</td>\n",
       "      <td>9704335</td>\n",
       "      <td>1997-06-27</td>\n",
       "      <td>548</td>\n",
       "      <td>429</td>\n",
       "    </tr>\n",
       "    <tr>\n",
       "      <th>1065</th>\n",
       "      <td>9706522</td>\n",
       "      <td>9407347</td>\n",
       "      <td>1997-06-27</td>\n",
       "      <td>548</td>\n",
       "      <td>404</td>\n",
       "    </tr>\n",
       "    <tr>\n",
       "      <th>1064</th>\n",
       "      <td>9706522</td>\n",
       "      <td>9509225</td>\n",
       "      <td>1997-06-27</td>\n",
       "      <td>548</td>\n",
       "      <td>196</td>\n",
       "    </tr>\n",
       "    <tr>\n",
       "      <th>1075</th>\n",
       "      <td>9706530</td>\n",
       "      <td>9511387</td>\n",
       "      <td>1997-06-27</td>\n",
       "      <td>556</td>\n",
       "      <td>237</td>\n",
       "    </tr>\n",
       "    <tr>\n",
       "      <th>1139</th>\n",
       "      <td>9706527</td>\n",
       "      <td>9706235</td>\n",
       "      <td>1997-06-27</td>\n",
       "      <td>553</td>\n",
       "      <td>335</td>\n",
       "    </tr>\n",
       "  </tbody>\n",
       "</table>\n",
       "</div>"
      ],
      "text/plain": [
       "          id1      id2       date  node_x  node_y\n",
       "1066  9706522  9704335 1997-06-27     548     429\n",
       "1065  9706522  9407347 1997-06-27     548     404\n",
       "1064  9706522  9509225 1997-06-27     548     196\n",
       "1075  9706530  9511387 1997-06-27     556     237\n",
       "1139  9706527  9706235 1997-06-27     553     335"
      ]
     },
     "execution_count": 20,
     "metadata": {},
     "output_type": "execute_result"
    }
   ],
   "source": [
    "val.tail()"
   ]
  },
  {
   "cell_type": "code",
   "execution_count": 21,
   "metadata": {
    "collapsed": true
   },
   "outputs": [],
   "source": [
    "test = data.loc[val_end_new+1:test_end_new]\n",
    "\n",
    "test_set =set(test['id1'].tolist()+test['id2'].tolist())\n",
    "dictionary =dict(zip(test_set,range(1,len(test_set)+1)))\n",
    "d = pd.Series(dictionary, name = \"node\")\n",
    "d.index.name = \"id\"\n",
    "d = d.reset_index()\n",
    "\n",
    "test =test.merge(d,left_on ='id1', right_on = 'id')\n",
    "test =test.merge(d, left_on ='id2', right_on = 'id')\n",
    "del test['id_x']\n",
    "del test['id_y']\n",
    "test = test.sort_values(['date','id1'])"
   ]
  },
  {
   "cell_type": "code",
   "execution_count": 22,
   "metadata": {},
   "outputs": [
    {
     "data": {
      "text/html": [
       "<div>\n",
       "<style>\n",
       "    .dataframe thead tr:only-child th {\n",
       "        text-align: right;\n",
       "    }\n",
       "\n",
       "    .dataframe thead th {\n",
       "        text-align: left;\n",
       "    }\n",
       "\n",
       "    .dataframe tbody tr th {\n",
       "        vertical-align: top;\n",
       "    }\n",
       "</style>\n",
       "<table border=\"1\" class=\"dataframe\">\n",
       "  <thead>\n",
       "    <tr style=\"text-align: right;\">\n",
       "      <th></th>\n",
       "      <th>id1</th>\n",
       "      <th>id2</th>\n",
       "      <th>date</th>\n",
       "      <th>node_x</th>\n",
       "      <th>node_y</th>\n",
       "    </tr>\n",
       "  </thead>\n",
       "  <tbody>\n",
       "    <tr>\n",
       "      <th>0</th>\n",
       "      <td>9706536</td>\n",
       "      <td>9303255</td>\n",
       "      <td>1997-06-28</td>\n",
       "      <td>521</td>\n",
       "      <td>634</td>\n",
       "    </tr>\n",
       "    <tr>\n",
       "      <th>34</th>\n",
       "      <td>9706534</td>\n",
       "      <td>9705290</td>\n",
       "      <td>1997-06-28</td>\n",
       "      <td>519</td>\n",
       "      <td>959</td>\n",
       "    </tr>\n",
       "    <tr>\n",
       "      <th>35</th>\n",
       "      <td>9706534</td>\n",
       "      <td>9705318</td>\n",
       "      <td>1997-06-28</td>\n",
       "      <td>519</td>\n",
       "      <td>979</td>\n",
       "    </tr>\n",
       "    <tr>\n",
       "      <th>36</th>\n",
       "      <td>9706534</td>\n",
       "      <td>9605367</td>\n",
       "      <td>1997-06-28</td>\n",
       "      <td>519</td>\n",
       "      <td>133</td>\n",
       "    </tr>\n",
       "    <tr>\n",
       "      <th>37</th>\n",
       "      <td>9706534</td>\n",
       "      <td>9607472</td>\n",
       "      <td>1997-06-28</td>\n",
       "      <td>519</td>\n",
       "      <td>167</td>\n",
       "    </tr>\n",
       "  </tbody>\n",
       "</table>\n",
       "</div>"
      ],
      "text/plain": [
       "        id1      id2       date  node_x  node_y\n",
       "0   9706536  9303255 1997-06-28     521     634\n",
       "34  9706534  9705290 1997-06-28     519     959\n",
       "35  9706534  9705318 1997-06-28     519     979\n",
       "36  9706534  9605367 1997-06-28     519     133\n",
       "37  9706534  9607472 1997-06-28     519     167"
      ]
     },
     "execution_count": 22,
     "metadata": {},
     "output_type": "execute_result"
    }
   ],
   "source": [
    "test.head()"
   ]
  },
  {
   "cell_type": "code",
   "execution_count": 23,
   "metadata": {},
   "outputs": [
    {
     "data": {
      "text/html": [
       "<div>\n",
       "<style>\n",
       "    .dataframe thead tr:only-child th {\n",
       "        text-align: right;\n",
       "    }\n",
       "\n",
       "    .dataframe thead th {\n",
       "        text-align: left;\n",
       "    }\n",
       "\n",
       "    .dataframe tbody tr th {\n",
       "        vertical-align: top;\n",
       "    }\n",
       "</style>\n",
       "<table border=\"1\" class=\"dataframe\">\n",
       "  <thead>\n",
       "    <tr style=\"text-align: right;\">\n",
       "      <th></th>\n",
       "      <th>id1</th>\n",
       "      <th>id2</th>\n",
       "      <th>date</th>\n",
       "      <th>node_x</th>\n",
       "      <th>node_y</th>\n",
       "    </tr>\n",
       "  </thead>\n",
       "  <tbody>\n",
       "    <tr>\n",
       "      <th>1042</th>\n",
       "      <td>9707273</td>\n",
       "      <td>9610431</td>\n",
       "      <td>1997-07-07</td>\n",
       "      <td>921</td>\n",
       "      <td>616</td>\n",
       "    </tr>\n",
       "    <tr>\n",
       "      <th>1043</th>\n",
       "      <td>9707273</td>\n",
       "      <td>9608441</td>\n",
       "      <td>1997-07-07</td>\n",
       "      <td>921</td>\n",
       "      <td>658</td>\n",
       "    </tr>\n",
       "    <tr>\n",
       "      <th>1044</th>\n",
       "      <td>9707273</td>\n",
       "      <td>9606423</td>\n",
       "      <td>1997-07-07</td>\n",
       "      <td>921</td>\n",
       "      <td>682</td>\n",
       "    </tr>\n",
       "    <tr>\n",
       "      <th>994</th>\n",
       "      <td>9707259</td>\n",
       "      <td>9705304</td>\n",
       "      <td>1997-07-07</td>\n",
       "      <td>908</td>\n",
       "      <td>969</td>\n",
       "    </tr>\n",
       "    <tr>\n",
       "      <th>1202</th>\n",
       "      <td>9707268</td>\n",
       "      <td>9612290</td>\n",
       "      <td>1997-07-07</td>\n",
       "      <td>917</td>\n",
       "      <td>493</td>\n",
       "    </tr>\n",
       "  </tbody>\n",
       "</table>\n",
       "</div>"
      ],
      "text/plain": [
       "          id1      id2       date  node_x  node_y\n",
       "1042  9707273  9610431 1997-07-07     921     616\n",
       "1043  9707273  9608441 1997-07-07     921     658\n",
       "1044  9707273  9606423 1997-07-07     921     682\n",
       "994   9707259  9705304 1997-07-07     908     969\n",
       "1202  9707268  9612290 1997-07-07     917     493"
      ]
     },
     "execution_count": 23,
     "metadata": {},
     "output_type": "execute_result"
    }
   ],
   "source": [
    "test.tail()"
   ]
  },
  {
   "cell_type": "code",
   "execution_count": 24,
   "metadata": {
    "collapsed": true
   },
   "outputs": [],
   "source": [
    "train.to_csv('training.csv',index  = False)\n",
    "val.to_csv('validation.csv',index  = False)\n",
    "test.to_csv('test.csv',index  = False)"
   ]
  },
  {
   "cell_type": "code",
   "execution_count": null,
   "metadata": {
    "collapsed": true
   },
   "outputs": [],
   "source": []
  }
 ],
 "metadata": {
  "anaconda-cloud": {},
  "kernelspec": {
   "display_name": "Python 3",
   "language": "python",
   "name": "python3"
  },
  "language_info": {
   "codemirror_mode": {
    "name": "ipython",
    "version": 3
   },
   "file_extension": ".py",
   "mimetype": "text/x-python",
   "name": "python",
   "nbconvert_exporter": "python",
   "pygments_lexer": "ipython3",
   "version": "3.6.3"
  }
 },
 "nbformat": 4,
 "nbformat_minor": 1
}
