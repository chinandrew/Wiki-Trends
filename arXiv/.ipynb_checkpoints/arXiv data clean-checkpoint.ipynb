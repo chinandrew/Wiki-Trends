{
 "cells": [
  {
   "cell_type": "markdown",
   "metadata": {},
   "source": [
    "# Removing Dateless items"
   ]
  },
  {
   "cell_type": "code",
   "execution_count": 1,
   "metadata": {
    "collapsed": true
   },
   "outputs": [],
   "source": [
    "import pandas as pd\n",
    "import datetime\n",
    "import itertools\n"
   ]
  },
  {
   "cell_type": "code",
   "execution_count": 2,
   "metadata": {
    "collapsed": true
   },
   "outputs": [],
   "source": [
    "dates =pd.read_table(\"cit-HepPh-dates.txt\", header = None)\n",
    "dates.columns =['id1', 'date']"
   ]
  },
  {
   "cell_type": "code",
   "execution_count": 3,
   "metadata": {
    "collapsed": true
   },
   "outputs": [],
   "source": [
    "raw = pd.read_table(\"Cit-HepPh.txt\", header = None)"
   ]
  },
  {
   "cell_type": "code",
   "execution_count": 4,
   "metadata": {
    "collapsed": true
   },
   "outputs": [],
   "source": [
    "dataset =set(raw.iloc[:,1].tolist()+raw.iloc[:,0].tolist())"
   ]
  },
  {
   "cell_type": "code",
   "execution_count": 5,
   "metadata": {
    "collapsed": true
   },
   "outputs": [],
   "source": [
    "dateset =set(dates.iloc[:,0])"
   ]
  },
  {
   "cell_type": "code",
   "execution_count": 6,
   "metadata": {
    "collapsed": true
   },
   "outputs": [],
   "source": [
    "uniq = list(dataset & dateset)"
   ]
  },
  {
   "cell_type": "code",
   "execution_count": 7,
   "metadata": {
    "collapsed": true
   },
   "outputs": [],
   "source": [
    "isuniq = raw.isin(uniq)"
   ]
  },
  {
   "cell_type": "code",
   "execution_count": 8,
   "metadata": {
    "collapsed": true
   },
   "outputs": [],
   "source": [
    "data = raw[isuniq.iloc[:,1] & isuniq.iloc[:,0]]\n",
    "data.columns =['id1', 'id2']"
   ]
  },
  {
   "cell_type": "code",
   "execution_count": 9,
   "metadata": {},
   "outputs": [
    {
     "data": {
      "text/plain": [
       "(347268, 2)"
      ]
     },
     "execution_count": 9,
     "metadata": {},
     "output_type": "execute_result"
    }
   ],
   "source": [
    "data.shape"
   ]
  },
  {
   "cell_type": "code",
   "execution_count": 10,
   "metadata": {
    "scrolled": false
   },
   "outputs": [
    {
     "data": {
      "text/plain": [
       "(421578, 2)"
      ]
     },
     "execution_count": 10,
     "metadata": {},
     "output_type": "execute_result"
    }
   ],
   "source": [
    "raw.shape"
   ]
  },
  {
   "cell_type": "code",
   "execution_count": 11,
   "metadata": {
    "collapsed": true,
    "scrolled": true
   },
   "outputs": [],
   "source": [
    "data = data.merge(dates, on=\"id1\")"
   ]
  },
  {
   "cell_type": "code",
   "execution_count": 12,
   "metadata": {
    "collapsed": true
   },
   "outputs": [],
   "source": [
    "data['date'] = pd.to_datetime(data['date'])\n",
    "data  = data.iloc[data['date'].argsort(),:]"
   ]
  },
  {
   "cell_type": "code",
   "execution_count": 13,
   "metadata": {
    "collapsed": true
   },
   "outputs": [],
   "source": [
    "data = data.reset_index()\n",
    "del data['index']"
   ]
  },
  {
   "cell_type": "markdown",
   "metadata": {},
   "source": [
    "# Sample Creation"
   ]
  },
  {
   "cell_type": "code",
   "execution_count": 32,
   "metadata": {},
   "outputs": [
    {
     "data": {
      "text/plain": [
       "28201"
      ]
     },
     "execution_count": 32,
     "metadata": {},
     "output_type": "execute_result"
    }
   ],
   "source": [
    "len(set(data.id1))"
   ]
  },
  {
   "cell_type": "code",
   "execution_count": 33,
   "metadata": {},
   "outputs": [
    {
     "name": "stdout",
     "output_type": "stream",
     "text": [
      "75055\n",
      "76144\n",
      "77345\n"
     ]
    }
   ],
   "source": [
    "trainingsize= 10000\n",
    "for i in range(data.shape[0]):\n",
    "    if len(set(data['id1'].loc[0:i]))==trainingsize:\n",
    "        print(i)\n",
    "        train_end = i\n",
    "        break\n",
    "        \n",
    "validationsize = 100\n",
    "for i in range(data.shape[0]):\n",
    "    if len(set(data['id1'].loc[train_end:i]))==validationsize:\n",
    "        print(i)\n",
    "        val_end = i\n",
    "        break\n",
    "\n",
    "\n",
    "testsize = 100\n",
    "for i in range(data.shape[0]):\n",
    "    if len(set(data['id1'].loc[val_end:i]))==validationsize:\n",
    "        print(i)\n",
    "        test_end = i\n",
    "        break\n",
    "        \n",
    "        \n",
    "#manual check, change  train end to 75052(-3)\n",
    "#manual check, change val end to 76192(+48)\n",
    "# change test end to  77395(+50)"
   ]
  },
  {
   "cell_type": "code",
   "execution_count": 14,
   "metadata": {
    "collapsed": true,
    "scrolled": true
   },
   "outputs": [],
   "source": [
    "train_end = 75055\n",
    "val_end = 76144\n",
    "test_end = 77345\n",
    "\n",
    "train_end_new = train_end-3\n",
    "val_end_new = val_end +48\n",
    "test_end_new = test_end +50\n"
   ]
  },
  {
   "cell_type": "code",
   "execution_count": 15,
   "metadata": {
    "collapsed": true
   },
   "outputs": [],
   "source": [
    "train = data.loc[0:train_end_new]\n",
    "\n",
    "train_set =set(train['id1'].tolist()+train['id2'].tolist())\n",
    "dictionary =dict(zip(train_set,range(1,len(train_set)+1)))\n",
    "d = pd.Series(dictionary, name = \"node\")\n",
    "d.index.name = \"id\"\n",
    "d = d.reset_index()\n",
    "\n",
    "train =train.merge(d,left_on ='id1', right_on = 'id')\n",
    "train =train.merge(d, left_on ='id2', right_on = 'id')\n",
    "del train['id_x']\n",
    "del train['id_y']\n",
    "train = train.iloc[train['date'].argsort(),:]"
   ]
  },
  {
   "cell_type": "code",
   "execution_count": 16,
   "metadata": {},
   "outputs": [
    {
     "data": {
      "text/html": [
       "<div>\n",
       "<style>\n",
       "    .dataframe thead tr:only-child th {\n",
       "        text-align: right;\n",
       "    }\n",
       "\n",
       "    .dataframe thead th {\n",
       "        text-align: left;\n",
       "    }\n",
       "\n",
       "    .dataframe tbody tr th {\n",
       "        vertical-align: top;\n",
       "    }\n",
       "</style>\n",
       "<table border=\"1\" class=\"dataframe\">\n",
       "  <thead>\n",
       "    <tr style=\"text-align: right;\">\n",
       "      <th></th>\n",
       "      <th>id1</th>\n",
       "      <th>id2</th>\n",
       "      <th>date</th>\n",
       "      <th>node_x</th>\n",
       "      <th>node_y</th>\n",
       "    </tr>\n",
       "  </thead>\n",
       "  <tbody>\n",
       "    <tr>\n",
       "      <th>0</th>\n",
       "      <td>9203210</td>\n",
       "      <td>9801208</td>\n",
       "      <td>1992-03-15</td>\n",
       "      <td>9861</td>\n",
       "      <td>10083</td>\n",
       "    </tr>\n",
       "    <tr>\n",
       "      <th>41</th>\n",
       "      <td>9203210</td>\n",
       "      <td>9801209</td>\n",
       "      <td>1992-03-15</td>\n",
       "      <td>9861</td>\n",
       "      <td>10084</td>\n",
       "    </tr>\n",
       "    <tr>\n",
       "      <th>72</th>\n",
       "      <td>9203222</td>\n",
       "      <td>9908362</td>\n",
       "      <td>1992-03-27</td>\n",
       "      <td>9873</td>\n",
       "      <td>8909</td>\n",
       "    </tr>\n",
       "    <tr>\n",
       "      <th>73</th>\n",
       "      <td>9204229</td>\n",
       "      <td>9908362</td>\n",
       "      <td>1992-04-22</td>\n",
       "      <td>10073</td>\n",
       "      <td>8909</td>\n",
       "    </tr>\n",
       "    <tr>\n",
       "      <th>115</th>\n",
       "      <td>9205220</td>\n",
       "      <td>9506358</td>\n",
       "      <td>1992-05-13</td>\n",
       "      <td>10355</td>\n",
       "      <td>3210</td>\n",
       "    </tr>\n",
       "  </tbody>\n",
       "</table>\n",
       "</div>"
      ],
      "text/plain": [
       "         id1      id2       date  node_x  node_y\n",
       "0    9203210  9801208 1992-03-15    9861   10083\n",
       "41   9203210  9801209 1992-03-15    9861   10084\n",
       "72   9203222  9908362 1992-03-27    9873    8909\n",
       "73   9204229  9908362 1992-04-22   10073    8909\n",
       "115  9205220  9506358 1992-05-13   10355    3210"
      ]
     },
     "execution_count": 16,
     "metadata": {},
     "output_type": "execute_result"
    }
   ],
   "source": [
    "train.head()"
   ]
  },
  {
   "cell_type": "code",
   "execution_count": 17,
   "metadata": {},
   "outputs": [
    {
     "data": {
      "text/html": [
       "<div>\n",
       "<style>\n",
       "    .dataframe thead tr:only-child th {\n",
       "        text-align: right;\n",
       "    }\n",
       "\n",
       "    .dataframe thead th {\n",
       "        text-align: left;\n",
       "    }\n",
       "\n",
       "    .dataframe tbody tr th {\n",
       "        vertical-align: top;\n",
       "    }\n",
       "</style>\n",
       "<table border=\"1\" class=\"dataframe\">\n",
       "  <thead>\n",
       "    <tr style=\"text-align: right;\">\n",
       "      <th></th>\n",
       "      <th>id1</th>\n",
       "      <th>id2</th>\n",
       "      <th>date</th>\n",
       "      <th>node_x</th>\n",
       "      <th>node_y</th>\n",
       "    </tr>\n",
       "  </thead>\n",
       "  <tbody>\n",
       "    <tr>\n",
       "      <th>72187</th>\n",
       "      <td>9706416</td>\n",
       "      <td>9601291</td>\n",
       "      <td>1997-06-19</td>\n",
       "      <td>6318</td>\n",
       "      <td>184</td>\n",
       "    </tr>\n",
       "    <tr>\n",
       "      <th>40869</th>\n",
       "      <td>9706423</td>\n",
       "      <td>9501384</td>\n",
       "      <td>1997-06-19</td>\n",
       "      <td>6324</td>\n",
       "      <td>10868</td>\n",
       "    </tr>\n",
       "    <tr>\n",
       "      <th>45537</th>\n",
       "      <td>9706417</td>\n",
       "      <td>9503486</td>\n",
       "      <td>1997-06-19</td>\n",
       "      <td>6319</td>\n",
       "      <td>630</td>\n",
       "    </tr>\n",
       "    <tr>\n",
       "      <th>71253</th>\n",
       "      <td>9706412</td>\n",
       "      <td>9608460</td>\n",
       "      <td>1997-06-19</td>\n",
       "      <td>6314</td>\n",
       "      <td>6585</td>\n",
       "    </tr>\n",
       "    <tr>\n",
       "      <th>75052</th>\n",
       "      <td>9706427</td>\n",
       "      <td>9610516</td>\n",
       "      <td>1997-06-19</td>\n",
       "      <td>6328</td>\n",
       "      <td>9307</td>\n",
       "    </tr>\n",
       "  </tbody>\n",
       "</table>\n",
       "</div>"
      ],
      "text/plain": [
       "           id1      id2       date  node_x  node_y\n",
       "72187  9706416  9601291 1997-06-19    6318     184\n",
       "40869  9706423  9501384 1997-06-19    6324   10868\n",
       "45537  9706417  9503486 1997-06-19    6319     630\n",
       "71253  9706412  9608460 1997-06-19    6314    6585\n",
       "75052  9706427  9610516 1997-06-19    6328    9307"
      ]
     },
     "execution_count": 17,
     "metadata": {},
     "output_type": "execute_result"
    }
   ],
   "source": [
    "train.tail()"
   ]
  },
  {
   "cell_type": "code",
   "execution_count": 18,
   "metadata": {
    "collapsed": true
   },
   "outputs": [],
   "source": [
    "val = data.loc[train_end_new+1:val_end_new]\n",
    "\n",
    "val_set =set(val['id1'].tolist()+val['id2'].tolist())\n",
    "dictionary =dict(zip(val_set,range(1,len(val_set)+1)))\n",
    "d = pd.Series(dictionary, name = \"node\")\n",
    "d.index.name = \"id\"\n",
    "d = d.reset_index()\n",
    "\n",
    "val =val.merge(d,left_on ='id1', right_on = 'id')\n",
    "val =val.merge(d, left_on ='id2', right_on = 'id')\n",
    "del val['id_x']\n",
    "del val['id_y']\n",
    "val = val.iloc[val['date'].argsort(),:]"
   ]
  },
  {
   "cell_type": "code",
   "execution_count": 19,
   "metadata": {},
   "outputs": [
    {
     "data": {
      "text/html": [
       "<div>\n",
       "<style>\n",
       "    .dataframe thead tr:only-child th {\n",
       "        text-align: right;\n",
       "    }\n",
       "\n",
       "    .dataframe thead th {\n",
       "        text-align: left;\n",
       "    }\n",
       "\n",
       "    .dataframe tbody tr th {\n",
       "        vertical-align: top;\n",
       "    }\n",
       "</style>\n",
       "<table border=\"1\" class=\"dataframe\">\n",
       "  <thead>\n",
       "    <tr style=\"text-align: right;\">\n",
       "      <th></th>\n",
       "      <th>id1</th>\n",
       "      <th>id2</th>\n",
       "      <th>date</th>\n",
       "      <th>node_x</th>\n",
       "      <th>node_y</th>\n",
       "    </tr>\n",
       "  </thead>\n",
       "  <tbody>\n",
       "    <tr>\n",
       "      <th>0</th>\n",
       "      <td>9706438</td>\n",
       "      <td>9408384</td>\n",
       "      <td>1997-06-20</td>\n",
       "      <td>466</td>\n",
       "      <td>981</td>\n",
       "    </tr>\n",
       "    <tr>\n",
       "      <th>136</th>\n",
       "      <td>9706431</td>\n",
       "      <td>9504215</td>\n",
       "      <td>1997-06-20</td>\n",
       "      <td>458</td>\n",
       "      <td>805</td>\n",
       "    </tr>\n",
       "    <tr>\n",
       "      <th>137</th>\n",
       "      <td>9706431</td>\n",
       "      <td>9602300</td>\n",
       "      <td>1997-06-20</td>\n",
       "      <td>458</td>\n",
       "      <td>699</td>\n",
       "    </tr>\n",
       "    <tr>\n",
       "      <th>138</th>\n",
       "      <td>9706431</td>\n",
       "      <td>9603351</td>\n",
       "      <td>1997-06-20</td>\n",
       "      <td>458</td>\n",
       "      <td>148</td>\n",
       "    </tr>\n",
       "    <tr>\n",
       "      <th>139</th>\n",
       "      <td>9706431</td>\n",
       "      <td>9303236</td>\n",
       "      <td>1997-06-20</td>\n",
       "      <td>458</td>\n",
       "      <td>659</td>\n",
       "    </tr>\n",
       "  </tbody>\n",
       "</table>\n",
       "</div>"
      ],
      "text/plain": [
       "         id1      id2       date  node_x  node_y\n",
       "0    9706438  9408384 1997-06-20     466     981\n",
       "136  9706431  9504215 1997-06-20     458     805\n",
       "137  9706431  9602300 1997-06-20     458     699\n",
       "138  9706431  9603351 1997-06-20     458     148\n",
       "139  9706431  9303236 1997-06-20     458     659"
      ]
     },
     "execution_count": 19,
     "metadata": {},
     "output_type": "execute_result"
    }
   ],
   "source": [
    "val.head()"
   ]
  },
  {
   "cell_type": "code",
   "execution_count": 20,
   "metadata": {},
   "outputs": [
    {
     "data": {
      "text/html": [
       "<div>\n",
       "<style>\n",
       "    .dataframe thead tr:only-child th {\n",
       "        text-align: right;\n",
       "    }\n",
       "\n",
       "    .dataframe thead th {\n",
       "        text-align: left;\n",
       "    }\n",
       "\n",
       "    .dataframe tbody tr th {\n",
       "        vertical-align: top;\n",
       "    }\n",
       "</style>\n",
       "<table border=\"1\" class=\"dataframe\">\n",
       "  <thead>\n",
       "    <tr style=\"text-align: right;\">\n",
       "      <th></th>\n",
       "      <th>id1</th>\n",
       "      <th>id2</th>\n",
       "      <th>date</th>\n",
       "      <th>node_x</th>\n",
       "      <th>node_y</th>\n",
       "    </tr>\n",
       "  </thead>\n",
       "  <tbody>\n",
       "    <tr>\n",
       "      <th>1066</th>\n",
       "      <td>9706522</td>\n",
       "      <td>9704335</td>\n",
       "      <td>1997-06-27</td>\n",
       "      <td>548</td>\n",
       "      <td>429</td>\n",
       "    </tr>\n",
       "    <tr>\n",
       "      <th>1065</th>\n",
       "      <td>9706522</td>\n",
       "      <td>9407347</td>\n",
       "      <td>1997-06-27</td>\n",
       "      <td>548</td>\n",
       "      <td>404</td>\n",
       "    </tr>\n",
       "    <tr>\n",
       "      <th>1064</th>\n",
       "      <td>9706522</td>\n",
       "      <td>9509225</td>\n",
       "      <td>1997-06-27</td>\n",
       "      <td>548</td>\n",
       "      <td>196</td>\n",
       "    </tr>\n",
       "    <tr>\n",
       "      <th>1075</th>\n",
       "      <td>9706530</td>\n",
       "      <td>9511387</td>\n",
       "      <td>1997-06-27</td>\n",
       "      <td>556</td>\n",
       "      <td>237</td>\n",
       "    </tr>\n",
       "    <tr>\n",
       "      <th>1139</th>\n",
       "      <td>9706527</td>\n",
       "      <td>9706235</td>\n",
       "      <td>1997-06-27</td>\n",
       "      <td>553</td>\n",
       "      <td>335</td>\n",
       "    </tr>\n",
       "  </tbody>\n",
       "</table>\n",
       "</div>"
      ],
      "text/plain": [
       "          id1      id2       date  node_x  node_y\n",
       "1066  9706522  9704335 1997-06-27     548     429\n",
       "1065  9706522  9407347 1997-06-27     548     404\n",
       "1064  9706522  9509225 1997-06-27     548     196\n",
       "1075  9706530  9511387 1997-06-27     556     237\n",
       "1139  9706527  9706235 1997-06-27     553     335"
      ]
     },
     "execution_count": 20,
     "metadata": {},
     "output_type": "execute_result"
    }
   ],
   "source": [
    "val.tail()"
   ]
  },
  {
   "cell_type": "code",
   "execution_count": 21,
   "metadata": {
    "collapsed": true
   },
   "outputs": [],
   "source": [
    "test = data.loc[val_end_new+1:test_end_new]\n",
    "\n",
    "test_set =set(test['id1'].tolist()+test['id2'].tolist())\n",
    "dictionary =dict(zip(test_set,range(1,len(test_set)+1)))\n",
    "d = pd.Series(dictionary, name = \"node\")\n",
    "d.index.name = \"id\"\n",
    "d = d.reset_index()\n",
    "\n",
    "test =test.merge(d,left_on ='id1', right_on = 'id')\n",
    "test =test.merge(d, left_on ='id2', right_on = 'id')\n",
    "del test['id_x']\n",
    "del test['id_y']\n",
    "test = test.iloc[test['date'].argsort(),:]"
   ]
  },
  {
   "cell_type": "code",
   "execution_count": 22,
   "metadata": {},
   "outputs": [
    {
     "data": {
      "text/html": [
       "<div>\n",
       "<style>\n",
       "    .dataframe thead tr:only-child th {\n",
       "        text-align: right;\n",
       "    }\n",
       "\n",
       "    .dataframe thead th {\n",
       "        text-align: left;\n",
       "    }\n",
       "\n",
       "    .dataframe tbody tr th {\n",
       "        vertical-align: top;\n",
       "    }\n",
       "</style>\n",
       "<table border=\"1\" class=\"dataframe\">\n",
       "  <thead>\n",
       "    <tr style=\"text-align: right;\">\n",
       "      <th></th>\n",
       "      <th>id1</th>\n",
       "      <th>id2</th>\n",
       "      <th>date</th>\n",
       "      <th>node_x</th>\n",
       "      <th>node_y</th>\n",
       "    </tr>\n",
       "  </thead>\n",
       "  <tbody>\n",
       "    <tr>\n",
       "      <th>0</th>\n",
       "      <td>9706536</td>\n",
       "      <td>9303255</td>\n",
       "      <td>1997-06-28</td>\n",
       "      <td>521</td>\n",
       "      <td>634</td>\n",
       "    </tr>\n",
       "    <tr>\n",
       "      <th>34</th>\n",
       "      <td>9706534</td>\n",
       "      <td>9705290</td>\n",
       "      <td>1997-06-28</td>\n",
       "      <td>519</td>\n",
       "      <td>959</td>\n",
       "    </tr>\n",
       "    <tr>\n",
       "      <th>35</th>\n",
       "      <td>9706534</td>\n",
       "      <td>9705318</td>\n",
       "      <td>1997-06-28</td>\n",
       "      <td>519</td>\n",
       "      <td>979</td>\n",
       "    </tr>\n",
       "    <tr>\n",
       "      <th>36</th>\n",
       "      <td>9706534</td>\n",
       "      <td>9605367</td>\n",
       "      <td>1997-06-28</td>\n",
       "      <td>519</td>\n",
       "      <td>133</td>\n",
       "    </tr>\n",
       "    <tr>\n",
       "      <th>37</th>\n",
       "      <td>9706534</td>\n",
       "      <td>9607472</td>\n",
       "      <td>1997-06-28</td>\n",
       "      <td>519</td>\n",
       "      <td>167</td>\n",
       "    </tr>\n",
       "  </tbody>\n",
       "</table>\n",
       "</div>"
      ],
      "text/plain": [
       "        id1      id2       date  node_x  node_y\n",
       "0   9706536  9303255 1997-06-28     521     634\n",
       "34  9706534  9705290 1997-06-28     519     959\n",
       "35  9706534  9705318 1997-06-28     519     979\n",
       "36  9706534  9605367 1997-06-28     519     133\n",
       "37  9706534  9607472 1997-06-28     519     167"
      ]
     },
     "execution_count": 22,
     "metadata": {},
     "output_type": "execute_result"
    }
   ],
   "source": [
    "test.head()"
   ]
  },
  {
   "cell_type": "code",
   "execution_count": 23,
   "metadata": {},
   "outputs": [
    {
     "data": {
      "text/html": [
       "<div>\n",
       "<style>\n",
       "    .dataframe thead tr:only-child th {\n",
       "        text-align: right;\n",
       "    }\n",
       "\n",
       "    .dataframe thead th {\n",
       "        text-align: left;\n",
       "    }\n",
       "\n",
       "    .dataframe tbody tr th {\n",
       "        vertical-align: top;\n",
       "    }\n",
       "</style>\n",
       "<table border=\"1\" class=\"dataframe\">\n",
       "  <thead>\n",
       "    <tr style=\"text-align: right;\">\n",
       "      <th></th>\n",
       "      <th>id1</th>\n",
       "      <th>id2</th>\n",
       "      <th>date</th>\n",
       "      <th>node_x</th>\n",
       "      <th>node_y</th>\n",
       "    </tr>\n",
       "  </thead>\n",
       "  <tbody>\n",
       "    <tr>\n",
       "      <th>1042</th>\n",
       "      <td>9707273</td>\n",
       "      <td>9610431</td>\n",
       "      <td>1997-07-07</td>\n",
       "      <td>921</td>\n",
       "      <td>616</td>\n",
       "    </tr>\n",
       "    <tr>\n",
       "      <th>1043</th>\n",
       "      <td>9707273</td>\n",
       "      <td>9608441</td>\n",
       "      <td>1997-07-07</td>\n",
       "      <td>921</td>\n",
       "      <td>658</td>\n",
       "    </tr>\n",
       "    <tr>\n",
       "      <th>1044</th>\n",
       "      <td>9707273</td>\n",
       "      <td>9606423</td>\n",
       "      <td>1997-07-07</td>\n",
       "      <td>921</td>\n",
       "      <td>682</td>\n",
       "    </tr>\n",
       "    <tr>\n",
       "      <th>994</th>\n",
       "      <td>9707259</td>\n",
       "      <td>9705304</td>\n",
       "      <td>1997-07-07</td>\n",
       "      <td>908</td>\n",
       "      <td>969</td>\n",
       "    </tr>\n",
       "    <tr>\n",
       "      <th>1202</th>\n",
       "      <td>9707268</td>\n",
       "      <td>9612290</td>\n",
       "      <td>1997-07-07</td>\n",
       "      <td>917</td>\n",
       "      <td>493</td>\n",
       "    </tr>\n",
       "  </tbody>\n",
       "</table>\n",
       "</div>"
      ],
      "text/plain": [
       "          id1      id2       date  node_x  node_y\n",
       "1042  9707273  9610431 1997-07-07     921     616\n",
       "1043  9707273  9608441 1997-07-07     921     658\n",
       "1044  9707273  9606423 1997-07-07     921     682\n",
       "994   9707259  9705304 1997-07-07     908     969\n",
       "1202  9707268  9612290 1997-07-07     917     493"
      ]
     },
     "execution_count": 23,
     "metadata": {},
     "output_type": "execute_result"
    }
   ],
   "source": [
    "test.tail()"
   ]
  },
  {
   "cell_type": "code",
   "execution_count": 24,
   "metadata": {
    "collapsed": true
   },
   "outputs": [],
   "source": [
    "train.to_csv('training.csv',index  = False)\n",
    "val.to_csv('validation.csv',index  = False)\n",
    "test.to_csv('test.csv',index  = False)"
   ]
  },
  {
   "cell_type": "code",
   "execution_count": null,
   "metadata": {
    "collapsed": true
   },
   "outputs": [],
   "source": []
  }
 ],
 "metadata": {
  "anaconda-cloud": {},
  "kernelspec": {
   "display_name": "Python 3",
   "language": "python",
   "name": "python3"
  },
  "language_info": {
   "codemirror_mode": {
    "name": "ipython",
    "version": 3
   },
   "file_extension": ".py",
   "mimetype": "text/x-python",
   "name": "python",
   "nbconvert_exporter": "python",
   "pygments_lexer": "ipython3",
   "version": "3.6.3"
  }
 },
 "nbformat": 4,
 "nbformat_minor": 1
}
