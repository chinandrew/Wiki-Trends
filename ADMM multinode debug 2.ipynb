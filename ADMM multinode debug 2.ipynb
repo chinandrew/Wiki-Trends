{
 "cells": [
  {
   "cell_type": "code",
   "execution_count": 1,
   "metadata": {
    "collapsed": false
   },
   "outputs": [],
   "source": [
    "using LightGraphs\n",
    "\n",
    "\"\"\"\n",
    "inverse logit function\n",
    "\"\"\"\n",
    "invLogit(x) = 1./(1.+e.^-x)   \n",
    "\n",
    "\"\"\"\n",
    "given graph and probability, adds a node which must have >0\n",
    "connections by flipping biased coin for each existing node\n",
    "\"\"\"\n",
    "function addNode2(graph, p)\n",
    "    add_vertex!(graph)\n",
    "    x = nv(graph)\n",
    "    degree = 0\n",
    "    while degree ==0\n",
    "        flips = rand(x-1)\n",
    "        for i = 1:x-1\n",
    "            if p[i]>flips[i]\n",
    "                add_edge!(graph,i,x)\n",
    "                degree +=1 \n",
    "            end\n",
    "        end\n",
    "    end\n",
    "    return graph\n",
    "end\n",
    "\n",
    "\n",
    "\"\"\"\n",
    "given graph, b vector, and a_0, adds a new node as specifiec by the model\n",
    "\"\"\"\n",
    "function addPrefNode(g,b,a_0 = -7)\n",
    "    n = nv(g)\n",
    "    L = laplacian_matrix(g)\n",
    "    a = lufact(L) \\ (b - mean(b))    \n",
    "    p = invLogit(a+a_0)\n",
    "    addNode2(g,p)\n",
    "    push!(b,0)\n",
    "    return g\n",
    "end\n",
    "\n",
    "\n",
    "\"\"\"\n",
    "given graph and number of new edges desired, randomly adds edges between existing nodes\n",
    "\"\"\"\n",
    "function randEdgeGen(graph, newedges)\n",
    "    for i in 1:newedges\n",
    "        z = newedges\n",
    "        x = collect(1:nv(graph))\n",
    "        edge1 = rand(x)\n",
    "        deleteat!(x, edge1)\n",
    "        edge2 = rand(x)\n",
    "        add_edge!(graph,edge1,edge2)\n",
    "    end\n",
    "    return graph\n",
    "end\n",
    ";"
   ]
  },
  {
   "cell_type": "code",
   "execution_count": 2,
   "metadata": {
    "collapsed": false
   },
   "outputs": [],
   "source": [
    "\"\"\"\n",
    "soft threshold\n",
    "\"\"\"\n",
    "soft(c,lambda) = sign(c).*max(abs(c)-lambda/2,0)\n",
    "\n",
    "\"\"\"\n",
    "computes gradient\n",
    "\"\"\"\n",
    "function gradient2(a,a_0,u,L,rho,b,y)\n",
    "    grad = -1.*(y-invLogit(a+a_0))+L*u + rho*L*(L*a-b)\n",
    "    return grad\n",
    "end;\n",
    "\n",
    "\n",
    "\"\"\"\n",
    "computes hessian\n",
    "\"\"\"\n",
    "function hessian(a,a_0,rho,L)\n",
    "    hess = Diagonal(vec((invLogit(a+a_0).*(1-invLogit(a+a_0)))))+rho*L^2\n",
    "    return hess\n",
    "end;\n",
    "\n",
    "\n",
    "\n",
    "\n",
    "\"\"\"\n",
    "newton raphson for a update\n",
    "\"\"\"\n",
    "function newton(y_i,a_0,L,rho,b,u)\n",
    "    a = zeros(length(y_i),1)\n",
    "    a_old = a\n",
    "    iters = 0\n",
    "    diff = 1.0\n",
    "    while(diff >STOP_DIFF && iters< MAX_ITER )\n",
    "        grad = gradient2(a_old,a_0,u,L,rho,b,y_i)\n",
    "        hess = hessian(a_old,a_0, rho,L)\n",
    "        a = a_old - inv(hess)*grad\n",
    "        diff = norm(a-a_old)\n",
    "        a_old = a\n",
    "        iters = iters+1\n",
    "    end\n",
    "    if(iters == MAX_ITER)\n",
    "        print(\"max iter reached\")\n",
    "    end\n",
    "    return a\n",
    "end\n",
    ";\n",
    "\n",
    "\n"
   ]
  },
  {
   "cell_type": "code",
   "execution_count": 3,
   "metadata": {
    "collapsed": true
   },
   "outputs": [],
   "source": [
    "levels = 10     #number of levels in binary tree\n",
    "g = BinaryTree(levels)\n",
    "n = nv(g)\n",
    "b = (rand(n) .< 8 / n)*1. \n",
    "genb = copy(b)  # save for later\n",
    "g = randEdgeGen(g,1000)\n",
    "A = Array{Int64,2}[]\n",
    "L =  SparseMatrixCSC{Int64,Int64}[]\n",
    "push!(L, laplacian_matrix(g))\n",
    "numnewnodes = 2\n",
    "a_0 = -5\n",
    "# creates matrix A and L where A[i] is the connections for ith node and L[i] is the laplacian of the i-1st time step \n",
    "for i in 1:numnewnodes  \n",
    "    g = addPrefNode(g,b, a_0)\n",
    "    push!(L,laplacian_matrix(g))\n",
    "    connects = zeros(2^levels-2+i,1)  #-1 for -1 1 coding\n",
    "    connects[neighbors(g,nv(g))] = 1\n",
    "    push!(A,connects)\n",
    "end\n",
    "\n",
    "\n",
    "t = 2^levels-1+numnewnodes #number of nodes at time t\n",
    "t_0 = 2^levels-1  # number of initial nodes\n",
    ";\n",
    "\n",
    "const MAX_ITER = 1000\n",
    "const STOP_DIFF = 0.001;\n",
    "\n",
    "rho = 1.5\n",
    "lambda = 1.1\n",
    "new = numnewnodes\n",
    "a = zeros(t-1,new)\n",
    "b = zeros(t_0)\n",
    "u = zeros(t-1,new)\n",
    "#\talpha = 1.5  #relaxation parameter\n",
    "iters = 0\n",
    "diff = 1.0\n",
    "b_old = b;\n"
   ]
  },
  {
   "cell_type": "markdown",
   "metadata": {},
   "source": [
    "Works on one node"
   ]
  },
  {
   "cell_type": "code",
   "execution_count": 5,
   "metadata": {
    "collapsed": true
   },
   "outputs": [],
   "source": [
    "\tfor i in 1:new    \n",
    "   \t\ta[1:(t_0 +i-1),i]= newton(A[i],a_0,L[i],rho,[b' zeros(i-1)']',u[1:(t_0 +i-1),i])\n",
    "   \tend"
   ]
  },
  {
   "cell_type": "code",
   "execution_count": 7,
   "metadata": {
    "collapsed": false
   },
   "outputs": [],
   "source": [
    "    c = zeros(t-1)\n",
    "    for i in 1:new\n",
    "    \tc[1:(t_0 +i-1)] = c[1:(t_0 +i-1)]+ u[1:(t_0 +i-1),i]+rho*(L[i]*a[1:(t_0 +i-1),i])/(rho)\n",
    "    end"
   ]
  },
  {
   "cell_type": "code",
   "execution_count": 12,
   "metadata": {
    "collapsed": false
   },
   "outputs": [
    {
     "data": {
      "text/plain": [
       "1023-element Array{Float64,1}:\n",
       " -0.0\n",
       " -0.0\n",
       " -0.0\n",
       " -0.0\n",
       " -0.0\n",
       " -0.0\n",
       " -0.0\n",
       " -0.0\n",
       " -0.0\n",
       " -0.0\n",
       " -0.0\n",
       " -0.0\n",
       " -0.0\n",
       "  ⋮  \n",
       " -0.0\n",
       " -0.0\n",
       " -0.0\n",
       " -0.0\n",
       " -0.0\n",
       " -0.0\n",
       " -0.0\n",
       " -0.0\n",
       " -0.0\n",
       " -0.0\n",
       "  0.0\n",
       " -0.0"
      ]
     },
     "execution_count": 12,
     "metadata": {},
     "output_type": "execute_result"
    }
   ],
   "source": [
    "b = soft(c[1:t_0],lambda)"
   ]
  },
  {
   "cell_type": "code",
   "execution_count": null,
   "metadata": {
    "collapsed": true
   },
   "outputs": [],
   "source": [
    "@time begin\n",
    "\n",
    "for j in 1:50 \n",
    "\tfor i in 1:new    \n",
    "   \t\ta[1:(t_0 +i-1),i]= newton(A[i],a_0,L[i],rho,[b' zeros(i-1)']',u[1:(t_0 +i-1),i])\n",
    "   \tend\n",
    "        \n",
    "    #b update\n",
    "    c = zeros(t-1)\n",
    "    for i in 1:new\n",
    "    \tc[1:(t_0 +i-1)] = c[1:(t_0 +i-1)]+ u[1:(t_0 +i-1),i]+rho*(L[i]*a[1:(t_0 +i-1),i])/(rho)\n",
    "    end\n",
    "    b = soft(c[1:t_0],lambda)\n",
    "    for i in 1:new\n",
    "    \tu[1:(t_0 +i-1),i] = u[1:(t_0 +i-1),i]+ rho*(L[i]*a[1:(t_0 +i-1),i]-[b' zeros(i-1)']')\n",
    "    end\n",
    "    diff  = norm(b-b_old)\n",
    "    b_old = b\n",
    "    println(diff)\n",
    "end\n",
    "\n",
    "\n",
    "end\n"
   ]
  },
  {
   "cell_type": "code",
   "execution_count": null,
   "metadata": {
    "collapsed": false,
    "scrolled": true
   },
   "outputs": [],
   "source": [
    "@time begin\n",
    "\n",
    "for j in 1:50     \n",
    "    for i in 1:new\n",
    "        a[1:length(A[i]),i] = newton(A[i],a_0,L[i],rho,[b' zeros(i-1)']',u[1:length(A[i]),i])\n",
    "    end\n",
    "    #b update\n",
    "    c = zeros(t-1)\n",
    "    for i in 1:new\n",
    "        c[1:size(L[i])[1]] = c[1:size(L[i])[1]]+ u[1:size(L[i])[1],i]+rho*(L[i]*a[1:size(L[i])[1],i])/(rho)\n",
    "    end\n",
    "    b = soft(c[1:t_0],lambda)\n",
    "    for i in 1:new\n",
    "        u[1:length(A[i]),i] = u[1:length(A[i]),i]+ rho*(L[i]*a[1:length(A[i]),i]-[b' zeros(i-1)']')\n",
    "    end\n",
    "    diff  = norm(b-b_old)\n",
    "    b_old = b\n",
    "    println(diff)\n",
    "end\n",
    "    \n",
    "end"
   ]
  },
  {
   "cell_type": "code",
   "execution_count": null,
   "metadata": {
    "collapsed": false,
    "scrolled": true
   },
   "outputs": [],
   "source": [
    "sort(b[:,1])"
   ]
  },
  {
   "cell_type": "markdown",
   "metadata": {},
   "source": [
    "Ver 2"
   ]
  },
  {
   "cell_type": "code",
   "execution_count": 4,
   "metadata": {
    "collapsed": true
   },
   "outputs": [
    {
     "name": "stdout",
     "output_type": "stream",
     "text": [
      "0.40905792469445834\n",
      "1.13512143925225\n",
      "1.2218802351081564\n",
      "1.651122065049837\n",
      "1.699965377383836\n",
      "2.324091756618478\n",
      "3.313895503988496\n",
      "5.021249951823244\n",
      "7.526157522850481\n",
      "11.781672377060174\n",
      "18.731704534170362\n",
      "30.08977671158003\n",
      "48.53797775884829\n",
      "78.3990445018065\n",
      "NaN\n",
      "NaN\n",
      "NaN\n",
      "NaN\n",
      "NaN\n",
      "NaN\n",
      "NaN\n",
      "NaN\n",
      "NaN\n",
      "NaN\n",
      "NaN\n",
      "NaN\n",
      "NaN\n",
      "NaN\n",
      "NaN\n",
      "NaN\n",
      "NaN\n",
      "NaN\n",
      "NaN\n",
      "NaN\n",
      "NaN\n",
      "NaN\n",
      "NaN\n",
      "NaN\n",
      "NaN\n",
      "NaN\n",
      "NaN\n",
      "NaN\n",
      "NaN\n",
      "NaN\n",
      "NaN\n",
      "NaN\n",
      "NaN\n",
      "NaN\n",
      "NaN\n",
      "NaN\n",
      " 62.939256 seconds (3.90 M allocations: 9.832 GB, 0.92% gc time)\n"
     ]
    }
   ],
   "source": [
    "@time begin\n",
    "\n",
    "for j in 1:50 \n",
    "\tfor i in 1:new    \n",
    "   \t\ta[1:(t_0 +i-1),i]= newton(A[i],a_0,L[i],rho,[b' zeros(i-1)']',u[1:(t_0 +i-1),i])\n",
    "   \tend\n",
    "        \n",
    "    #b update\n",
    "    c = zeros(t-1)\n",
    "    for i in 1:new\n",
    "    \tc[1:(t_0 +i-1)] = c[1:(t_0 +i-1)]+ u[1:(t_0 +i-1),i]+rho*(L[i]*a[1:(t_0 +i-1),i])/(rho)\n",
    "    end\n",
    "    b = soft(c[1:t_0],lambda)\n",
    "    for i in 1:new\n",
    "    \tu[1:(t_0 +i-1),i] = u[1:(t_0 +i-1),i]+ rho*(L[i]*a[1:(t_0 +i-1),i]-[b' zeros(i-1)']')\n",
    "    end\n",
    "    diff  = norm(b-b_old)\n",
    "    b_old = b\n",
    "    println(diff)\n",
    "end\n",
    "\n",
    "\n",
    "end\n"
   ]
  },
  {
   "cell_type": "markdown",
   "metadata": {},
   "source": [
    "Ver 3"
   ]
  },
  {
   "cell_type": "code",
   "execution_count": 16,
   "metadata": {
    "collapsed": true
   },
   "outputs": [
    {
     "data": {
      "text/plain": [
       "1024-element Array{Float64,1}:\n",
       " NaN\n",
       " NaN\n",
       " NaN\n",
       " NaN\n",
       " NaN\n",
       " NaN\n",
       " NaN\n",
       " NaN\n",
       " NaN\n",
       " NaN\n",
       " NaN\n",
       " NaN\n",
       " NaN\n",
       "   ⋮\n",
       " NaN\n",
       " NaN\n",
       " NaN\n",
       " NaN\n",
       " NaN\n",
       " NaN\n",
       " NaN\n",
       " NaN\n",
       " NaN\n",
       " NaN\n",
       " NaN\n",
       " NaN"
      ]
     },
     "execution_count": 16,
     "metadata": {},
     "output_type": "execute_result"
    }
   ],
   "source": [
    "b"
   ]
  },
  {
   "cell_type": "code",
   "execution_count": 4,
   "metadata": {
    "collapsed": false,
    "scrolled": false
   },
   "outputs": [
    {
     "name": "stdout",
     "output_type": "stream",
     "text": [
      "0.39972889715465487\n",
      "0.8970037380519437\n",
      "1.1169359311775575\n",
      "1.4258072810395157\n",
      "1.43045619297965\n",
      "2.0681113087027096\n",
      "3.155210940541284\n",
      "4.886839079035107\n",
      "7.545563565666765\n",
      "11.933141719699192\n",
      "19.021936096398168\n",
      "30.87925494257135\n",
      "49.765330081182945\n",
      "80.62596547366235\n",
      "130.59766486144912\n",
      "NaN\n",
      "NaN\n",
      "NaN\n",
      "NaN\n",
      "NaN\n",
      "NaN\n",
      "NaN\n",
      "NaN\n",
      "NaN\n",
      "NaN\n",
      "NaN\n",
      "NaN\n",
      "NaN\n",
      "NaN\n",
      "NaN\n",
      "NaN\n",
      "NaN\n",
      "NaN\n",
      "NaN\n",
      "NaN\n",
      "NaN\n",
      "NaN\n",
      "NaN\n",
      "NaN\n",
      "NaN\n",
      "NaN\n",
      "NaN\n",
      "NaN\n",
      "NaN\n",
      "NaN\n",
      "NaN\n",
      "NaN\n",
      "NaN\n",
      "NaN\n",
      "NaN\n",
      "129.849989 seconds (6.44 M allocations: 19.489 GB, 0.63% gc time)\n"
     ]
    }
   ],
   "source": [
    "@time begin\n",
    "\n",
    "b = zeros(t-1)\n",
    "b_old = b\n",
    "for j in 1:50 \n",
    "\tfor i in 1:new    \n",
    "   \t\ta[1:(t_0 +i-1),i]= newton(A[i],a_0,L[i],rho,b[1:(t_0 +i-1)],u[1:(t_0 +i-1),i])\n",
    "   \tend\n",
    "        \n",
    "    #b update\n",
    "    c = zeros(t-1)\n",
    "    for i in 1:new\n",
    "    \tc[1:(t_0 +i-1)] = c[1:(t_0 +i-1)]+ u[1:(t_0 +i-1),i]+rho*(L[i]*a[1:(t_0 +i-1),i])/(rho)\n",
    "    end\n",
    "    b = soft(c,lambda)\n",
    "    for i in 1:new\n",
    "    \tu[1:(t_0 +i-1),i] = u[1:(t_0 +i-1),i]+ rho*(L[i]*a[1:(t_0 +i-1),i]-b[1:(t_0 +i-1)])\n",
    "    end\n",
    "    diff  = norm(b-b_old)\n",
    "    b_old = b\n",
    "    println(diff)\n",
    "end\n",
    "\n",
    "@time begin\n",
    "for j in 1:1000     \n",
    "    a= newton(A,a_0,L,rho,b,u)\n",
    "    #b update\n",
    "    c = zeros(t-1)\n",
    "    c = c+ u+rho*(L*a)/(rho)\n",
    "    b = soft(c,lambda)\n",
    "    u = u+ rho*(L*a-b)\n",
    "    diff  = norm(b-b_old)\n",
    "    b_old = b\n",
    "    println(diff)\n",
    "end\n",
    "end\n",
    "end\n"
   ]
  },
  {
   "cell_type": "code",
   "execution_count": null,
   "metadata": {
    "collapsed": true
   },
   "outputs": [],
   "source": []
  }
 ],
 "metadata": {
  "anaconda-cloud": {},
  "kernelspec": {
   "display_name": "Julia 0.5.0",
   "language": "julia",
   "name": "julia-0.5"
  },
  "language_info": {
   "file_extension": ".jl",
   "mimetype": "application/julia",
   "name": "julia",
   "version": "0.5.0"
  }
 },
 "nbformat": 4,
 "nbformat_minor": 1
}
